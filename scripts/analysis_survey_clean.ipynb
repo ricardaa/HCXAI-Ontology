{
 "cells": [
  {
   "cell_type": "markdown",
   "metadata": {},
   "source": [
    "# Survey Analysis"
   ]
  },
  {
   "cell_type": "code",
   "execution_count": 1,
   "metadata": {},
   "outputs": [],
   "source": [
    "# Import Packages\n",
    "import pandas as pd\n",
    "import matplotlib.pyplot as plt\n",
    "import pingouin as pg\n",
    "import scipy.stats as stats\n",
    "import numpy as np\n",
    "from factor_analyzer import FactorAnalyzer\n",
    "from factor_analyzer.factor_analyzer import calculate_bartlett_sphericity\n",
    "\n",
    "import statsmodels.api as sm\n",
    "import statsmodels.formula.api as smf\n",
    "from statsmodels.tools.sm_exceptions import ConvergenceWarning"
   ]
  },
  {
   "cell_type": "code",
   "execution_count": 2,
   "metadata": {},
   "outputs": [],
   "source": [
    "# Load Data\n",
    "df = pd.read_csv('C:/Users/ricar/Desktop/Data/data_survey.csv', sep=';')"
   ]
  },
  {
   "cell_type": "code",
   "execution_count": 91,
   "metadata": {},
   "outputs": [
    {
     "data": {
      "text/plain": [
       "(50, 37)"
      ]
     },
     "execution_count": 91,
     "metadata": {},
     "output_type": "execute_result"
    }
   ],
   "source": [
    "df.shape"
   ]
  },
  {
   "cell_type": "code",
   "execution_count": 3,
   "metadata": {},
   "outputs": [],
   "source": [
    "df = df[df['lfdn'] != 88] # ID 88 has too many missing values -> excluded from analysis"
   ]
  },
  {
   "cell_type": "markdown",
   "metadata": {},
   "source": [
    "### Data Preparation"
   ]
  },
  {
   "cell_type": "code",
   "execution_count": 4,
   "metadata": {},
   "outputs": [],
   "source": [
    "# Add ID column\n",
    "df['ID'] = range(1, len(df) + 1)"
   ]
  },
  {
   "cell_type": "code",
   "execution_count": 5,
   "metadata": {},
   "outputs": [],
   "source": [
    "# Reverse answers of negatively worded items  \n",
    "def reverse_values(value):\n",
    "    # Replace 1 with 7, 2 with 6, 3 with 5, etc.\n",
    "    return 8 - value\n",
    "\n",
    "# Technical Affinity 05: It is enough for me that a technical system works; I don’t care how or why.\n",
    "df['att_ai_05_reversed'] = df['att_ai_05'].apply(reverse_values)\n",
    "\n",
    "# Attitude towards AI 06: I think Artificial Intelligence is dangerous.\n",
    "df['att_ai_06_reversed'] = df['att_ai_06'].apply(reverse_values)\n",
    "\n",
    "# Attitude towards AI 04: Organizations use Artificial Intelligence unethically.\n",
    "df['tech_aff_04_reversed'] = df['tech_aff_04'].apply(reverse_values)\n",
    "\n",
    "# print(df[['tech_aff_04_reversed', 'tech_aff_04']])"
   ]
  },
  {
   "cell_type": "markdown",
   "metadata": {},
   "source": [
    "### Data Exploration & Descriptive Statistics"
   ]
  },
  {
   "cell_type": "markdown",
   "metadata": {},
   "source": [
    "#### Explainability"
   ]
  },
  {
   "cell_type": "code",
   "execution_count": 98,
   "metadata": {},
   "outputs": [
    {
     "name": "stdout",
     "output_type": "stream",
     "text": [
      "6.0\n",
      "1.5714285714285714\n",
      "2\n",
      "7\n"
     ]
    },
    {
     "data": {
      "text/plain": [
       "why_local\n",
       "6    19\n",
       "7    10\n",
       "3     8\n",
       "5     6\n",
       "4     3\n",
       "2     3\n",
       "Name: count, dtype: int64"
      ]
     },
     "execution_count": 98,
     "metadata": {},
     "output_type": "execute_result"
    }
   ],
   "source": [
    "# Explainability\n",
    "# Explanation 1: why_local\n",
    "print(df[\"why_local\"].median())\n",
    "print(df[\"why_local\"].std())\n",
    "print(df[\"why_local\"].min())\n",
    "print(df[\"why_local\"].max())\n",
    "exp1_counts = df[\"why_local\"].value_counts()\n",
    "exp1_counts"
   ]
  },
  {
   "cell_type": "code",
   "execution_count": 99,
   "metadata": {},
   "outputs": [
    {
     "name": "stdout",
     "output_type": "stream",
     "text": [
      "6.0\n",
      "1.1848677414065463\n",
      "2\n",
      "7\n"
     ]
    },
    {
     "data": {
      "text/plain": [
       "why_not_local\n",
       "6    23\n",
       "7    10\n",
       "5     9\n",
       "3     3\n",
       "4     3\n",
       "2     1\n",
       "Name: count, dtype: int64"
      ]
     },
     "execution_count": 99,
     "metadata": {},
     "output_type": "execute_result"
    }
   ],
   "source": [
    "# Explanation 2: why_not_local\n",
    "print(df[\"why_not_local\"].median())\n",
    "print(df[\"why_not_local\"].std())\n",
    "print(df[\"why_not_local\"].min())\n",
    "print(df[\"why_not_local\"].max())\n",
    "exp2_counts = df[\"why_not_local\"].value_counts()\n",
    "exp2_counts"
   ]
  },
  {
   "cell_type": "code",
   "execution_count": 100,
   "metadata": {},
   "outputs": [
    {
     "name": "stdout",
     "output_type": "stream",
     "text": [
      "2.0\n",
      "1.5616579363625318\n",
      "1\n",
      "7\n"
     ]
    },
    {
     "data": {
      "text/plain": [
       "how_local\n",
       "2    13\n",
       "1    12\n",
       "3    10\n",
       "4     8\n",
       "6     3\n",
       "5     2\n",
       "7     1\n",
       "Name: count, dtype: int64"
      ]
     },
     "execution_count": 100,
     "metadata": {},
     "output_type": "execute_result"
    }
   ],
   "source": [
    "# Explanation 3: how_local\n",
    "print(df[\"how_local\"].median())\n",
    "print(df[\"how_local\"].std())\n",
    "print(df[\"how_local\"].min())\n",
    "print(df[\"how_local\"].max())\n",
    "exp3_counts = df[\"how_local\"].value_counts()\n",
    "exp3_counts"
   ]
  },
  {
   "cell_type": "code",
   "execution_count": 101,
   "metadata": {},
   "outputs": [
    {
     "name": "stdout",
     "output_type": "stream",
     "text": [
      "5.0\n",
      "1.5230652944494738\n",
      "2\n",
      "7\n"
     ]
    },
    {
     "data": {
      "text/plain": [
       "what_else_local\n",
       "6    13\n",
       "5    12\n",
       "4     7\n",
       "7     6\n",
       "3     6\n",
       "2     5\n",
       "Name: count, dtype: int64"
      ]
     },
     "execution_count": 101,
     "metadata": {},
     "output_type": "execute_result"
    }
   ],
   "source": [
    "# Explanation 4: what_else_local\n",
    "print(df[\"what_else_local\"].median())\n",
    "print(df[\"what_else_local\"].std())\n",
    "print(df[\"what_else_local\"].min())\n",
    "print(df[\"what_else_local\"].max())\n",
    "exp4_counts = df[\"what_else_local\"].value_counts()\n",
    "exp4_counts"
   ]
  },
  {
   "cell_type": "code",
   "execution_count": 102,
   "metadata": {},
   "outputs": [
    {
     "name": "stdout",
     "output_type": "stream",
     "text": [
      "6.0\n",
      "0.7704137946363541\n",
      "4\n",
      "7\n"
     ]
    },
    {
     "data": {
      "text/plain": [
       "why_global\n",
       "6    26\n",
       "5    11\n",
       "7    10\n",
       "4     2\n",
       "Name: count, dtype: int64"
      ]
     },
     "execution_count": 102,
     "metadata": {},
     "output_type": "execute_result"
    }
   ],
   "source": [
    "# Explanation 5: why_global\n",
    "print(df[\"why_global\"].median())\n",
    "print(df[\"why_global\"].std())\n",
    "print(df[\"why_global\"].min())\n",
    "print(df[\"why_global\"].max())\n",
    "exp5_counts = df[\"why_global\"].value_counts()\n",
    "exp5_counts"
   ]
  },
  {
   "cell_type": "code",
   "execution_count": 103,
   "metadata": {},
   "outputs": [
    {
     "name": "stdout",
     "output_type": "stream",
     "text": [
      "4.0\n",
      "1.516631157542008\n",
      "1\n",
      "7\n"
     ]
    },
    {
     "data": {
      "text/plain": [
       "how_global\n",
       "2    14\n",
       "5    12\n",
       "3     9\n",
       "4     7\n",
       "6     5\n",
       "7     1\n",
       "1     1\n",
       "Name: count, dtype: int64"
      ]
     },
     "execution_count": 103,
     "metadata": {},
     "output_type": "execute_result"
    }
   ],
   "source": [
    "# Explanation 6: how_global\n",
    "print(df[\"how_global\"].median())\n",
    "print(df[\"how_global\"].std())\n",
    "print(df[\"how_global\"].min())\n",
    "print(df[\"how_global\"].max())\n",
    "exp6_counts = df[\"how_global\"].value_counts()\n",
    "exp6_counts"
   ]
  },
  {
   "cell_type": "code",
   "execution_count": 104,
   "metadata": {},
   "outputs": [
    {
     "name": "stdout",
     "output_type": "stream",
     "text": [
      "6.0\n",
      "0.8660254037844386\n",
      "3\n",
      "7\n"
     ]
    },
    {
     "data": {
      "text/plain": [
       "why_not_global\n",
       "6    20\n",
       "5    18\n",
       "7     9\n",
       "4     1\n",
       "3     1\n",
       "Name: count, dtype: int64"
      ]
     },
     "execution_count": 104,
     "metadata": {},
     "output_type": "execute_result"
    }
   ],
   "source": [
    "# Explanation 7: why_not_global\n",
    "print(df[\"why_not_global\"].median())\n",
    "print(df[\"why_not_global\"].std())\n",
    "print(df[\"why_not_global\"].min())\n",
    "print(df[\"why_not_global\"].max())\n",
    "exp7_counts = df[\"why_not_global\"].value_counts()\n",
    "exp7_counts"
   ]
  },
  {
   "cell_type": "code",
   "execution_count": 105,
   "metadata": {},
   "outputs": [
    {
     "name": "stdout",
     "output_type": "stream",
     "text": [
      "5.0\n",
      "1.5883825684240775\n",
      "1\n",
      "7\n"
     ]
    },
    {
     "data": {
      "text/plain": [
       "how_to_global\n",
       "5    13\n",
       "6    10\n",
       "4     8\n",
       "3     6\n",
       "7     6\n",
       "2     5\n",
       "1     1\n",
       "Name: count, dtype: int64"
      ]
     },
     "execution_count": 105,
     "metadata": {},
     "output_type": "execute_result"
    }
   ],
   "source": [
    "# Explanation 8: how_to_global\n",
    "print(df[\"how_to_global\"].median())\n",
    "print(df[\"how_to_global\"].std())\n",
    "print(df[\"how_to_global\"].min())\n",
    "print(df[\"how_to_global\"].max())\n",
    "exp8_counts = df[\"how_to_global\"].value_counts()\n",
    "exp8_counts"
   ]
  },
  {
   "cell_type": "code",
   "execution_count": 106,
   "metadata": {},
   "outputs": [
    {
     "name": "stdout",
     "output_type": "stream",
     "text": [
      "5.0\n",
      "1.5073515991756585\n",
      "1\n",
      "7\n"
     ]
    },
    {
     "data": {
      "text/plain": [
       "what_if_global\n",
       "6    19\n",
       "5    10\n",
       "4     7\n",
       "3     7\n",
       "2     2\n",
       "1     2\n",
       "7     2\n",
       "Name: count, dtype: int64"
      ]
     },
     "execution_count": 106,
     "metadata": {},
     "output_type": "execute_result"
    }
   ],
   "source": [
    "# Explanation 9: what_if_global\n",
    "print(df[\"what_if_global\"].median())\n",
    "print(df[\"what_if_global\"].std())\n",
    "print(df[\"what_if_global\"].min())\n",
    "print(df[\"what_if_global\"].max())\n",
    "exp9_counts = df[\"what_if_global\"].value_counts()\n",
    "exp9_counts"
   ]
  },
  {
   "cell_type": "markdown",
   "metadata": {},
   "source": [
    "### Demographic Variables"
   ]
  },
  {
   "cell_type": "markdown",
   "metadata": {},
   "source": [
    "#### Gender"
   ]
  },
  {
   "cell_type": "code",
   "execution_count": 15,
   "metadata": {},
   "outputs": [
    {
     "name": "stdout",
     "output_type": "stream",
     "text": [
      "gender\n",
      "1    28\n",
      "2    21\n",
      "Name: count, dtype: int64\n"
     ]
    },
    {
     "data": {
      "image/png": "[encoded data removed]",
      "text/plain": [
       "<Figure size 576x432 with 1 Axes>"
      ]
     },
     "metadata": {
      "needs_background": "light"
     },
     "output_type": "display_data"
    }
   ],
   "source": [
    "# Gender\n",
    "gender_counts = df[\"gender\"].value_counts()\n",
    "print(gender_counts)\n",
    "\n",
    "# Plot\n",
    "plt.figure(figsize=(8, 6))\n",
    "plt.bar(gender_counts.index, gender_counts.values)\n",
    "plt.xlabel(\"Gender\")\n",
    "plt.ylabel(\"Count\")\n",
    "plt.title(\"Distribution Gender\")\n",
    "plt.show()"
   ]
  },
  {
   "cell_type": "code",
   "execution_count": 65,
   "metadata": {},
   "outputs": [
    {
     "data": {
      "text/plain": [
       "42.857142857142854"
      ]
     },
     "execution_count": 65,
     "metadata": {},
     "output_type": "execute_result"
    }
   ],
   "source": [
    "# in percentage\n",
    "(21/ 49) * 100"
   ]
  },
  {
   "cell_type": "markdown",
   "metadata": {},
   "source": [
    "#### Age"
   ]
  },
  {
   "cell_type": "code",
   "execution_count": 45,
   "metadata": {},
   "outputs": [
    {
     "name": "stdout",
     "output_type": "stream",
     "text": [
      "age\n",
      "2    23\n",
      "3    16\n",
      "4     8\n",
      "6     1\n",
      "5     1\n",
      "Name: count, dtype: int64\n"
     ]
    },
    {
     "data": {
      "image/png": "[encoded data removed]",
      "text/plain": [
       "<Figure size 576x432 with 1 Axes>"
      ]
     },
     "metadata": {
      "needs_background": "light"
     },
     "output_type": "display_data"
    }
   ],
   "source": [
    "# Age\n",
    "age_counts = df[\"age\"].value_counts()\n",
    "print(age_counts)\n",
    "\n",
    "# Plot\n",
    "plt.figure(figsize=(8, 6))\n",
    "plt.bar(age_counts.index, age_counts.values)\n",
    "plt.xlabel(\"Age\")\n",
    "plt.ylabel(\"Count\")\n",
    "plt.title(\"Distribution Age\")\n",
    "plt.show()"
   ]
  },
  {
   "cell_type": "code",
   "execution_count": 60,
   "metadata": {},
   "outputs": [
    {
     "data": {
      "text/plain": [
       "4.081632653061225"
      ]
     },
     "execution_count": 60,
     "metadata": {},
     "output_type": "execute_result"
    }
   ],
   "source": [
    "# in percentage\n",
    "(2/ 49) * 100"
   ]
  },
  {
   "cell_type": "markdown",
   "metadata": {},
   "source": [
    "#### Education"
   ]
  },
  {
   "cell_type": "code",
   "execution_count": 50,
   "metadata": {},
   "outputs": [
    {
     "name": "stdout",
     "output_type": "stream",
     "text": [
      "education\n",
      "4    29\n",
      "3    13\n",
      "5     5\n",
      "2     2\n",
      "Name: count, dtype: int64\n"
     ]
    },
    {
     "data": {
      "image/png": "[encoded data removed]",
      "text/plain": [
       "<Figure size 576x432 with 1 Axes>"
      ]
     },
     "metadata": {
      "needs_background": "light"
     },
     "output_type": "display_data"
    }
   ],
   "source": [
    "# Education\n",
    "educ_counts = df[\"education\"].value_counts()\n",
    "print(educ_counts)\n",
    "\n",
    "# Plot\n",
    "plt.figure(figsize=(8, 6))\n",
    "plt.bar(educ_counts.index, educ_counts.values)\n",
    "plt.xlabel(\"Education\")\n",
    "plt.ylabel(\"Count\")\n",
    "plt.title(\"Distribution Age\")\n",
    "plt.show()"
   ]
  },
  {
   "cell_type": "code",
   "execution_count": 48,
   "metadata": {},
   "outputs": [
    {
     "data": {
      "text/plain": [
       "10.204081632653061"
      ]
     },
     "execution_count": 48,
     "metadata": {},
     "output_type": "execute_result"
    }
   ],
   "source": [
    "# in percentage\n",
    "(5/ 49) * 100"
   ]
  },
  {
   "cell_type": "markdown",
   "metadata": {},
   "source": [
    "### Control Variables"
   ]
  },
  {
   "cell_type": "markdown",
   "metadata": {},
   "source": [
    "#### Technical Affinity"
   ]
  },
  {
   "cell_type": "code",
   "execution_count": 107,
   "metadata": {},
   "outputs": [
    {
     "name": "stdout",
     "output_type": "stream",
     "text": [
      "12\n",
      "28\n"
     ]
    },
    {
     "data": {
      "image/png": "[encoded data removed]",
      "text/plain": [
       "<Figure size 432x288 with 1 Axes>"
      ]
     },
     "metadata": {
      "needs_background": "light"
     },
     "output_type": "display_data"
    }
   ],
   "source": [
    "# Technical Affinity\n",
    "# Create Technical Affinity Index --> Sum\n",
    "# Sum of: [tech_aff_01\ttech_aff_02\ttech_aff_03\ttech_aff_04] \n",
    "df['Sum_TechAff'] = df[['tech_aff_01', 'tech_aff_02', 'tech_aff_03', 'tech_aff_04_reversed']].sum(axis=1)\n",
    "\n",
    "print(df['Sum_TechAff'].min()) # Min: 12\n",
    "print(df['Sum_TechAff'].max()) # Max: 28\n",
    "\n",
    "#Plot Distribution\n",
    "plt.hist(df['Sum_TechAff'], bins=10, color='blue', edgecolor='black')\n",
    "plt.xlabel('Sum of Values')\n",
    "plt.ylabel('Frequency')\n",
    "plt.title('Distribution Technical Affinity')\n",
    "plt.grid(True)\n",
    "plt.show()"
   ]
  },
  {
   "cell_type": "code",
   "execution_count": 18,
   "metadata": {},
   "outputs": [
    {
     "data": {
      "text/plain": [
       "(0.8391082933415519, array([0.75 , 0.902]))"
      ]
     },
     "execution_count": 18,
     "metadata": {},
     "output_type": "execute_result"
    }
   ],
   "source": [
    "# Technical Affinity\n",
    "# Cronbach's Alpha Technical Affinity\n",
    "pg.cronbach_alpha(data=df[['tech_aff_01', 'tech_aff_02', 'tech_aff_03', 'tech_aff_04_reversed']])"
   ]
  },
  {
   "cell_type": "code",
   "execution_count": 66,
   "metadata": {},
   "outputs": [
    {
     "name": "stdout",
     "output_type": "stream",
     "text": [
      "5.061224489795919\n",
      "0.526794287686489\n"
     ]
    }
   ],
   "source": [
    "# Mean + SD per Person\n",
    "# Mean per person\n",
    "df['tech_mean'] = df[['tech_aff_01', 'tech_aff_02', 'tech_aff_03', 'tech_aff_04_reversed']].mean(axis=1)\n",
    "\n",
    "# SD per person\n",
    "df['tech_SD'] = df[['tech_aff_01', 'tech_aff_02', 'tech_aff_03', 'tech_aff_04_reversed']].std(axis=1)\n",
    "\n",
    "#print(df[['tech_mean', 'tech_SD']])\n",
    "\n",
    "# Overall Mean + SD\n",
    "# Overall Mean\n",
    "overall_mean_tech = df['tech_mean'].mean()\n",
    "print(overall_mean_tech)\n",
    "\n",
    "# Overall SD\n",
    "overall_SD_tech = df['tech_SD'].std()\n",
    "print(overall_SD_tech)"
   ]
  },
  {
   "cell_type": "code",
   "execution_count": 78,
   "metadata": {},
   "outputs": [
    {
     "data": {
      "text/plain": [
       "5.091836734693878"
      ]
     },
     "execution_count": 78,
     "metadata": {},
     "output_type": "execute_result"
    }
   ],
   "source": [
    "df['tech_index'].mean()"
   ]
  },
  {
   "cell_type": "code",
   "execution_count": 67,
   "metadata": {},
   "outputs": [],
   "source": [
    "# Create index -> take care of missing values\n",
    "index_values = ['tech_aff_01', 'tech_aff_02', 'tech_aff_03', 'tech_aff_04_reversed']\n",
    "\n",
    "# If the original value is 0, replace the total with the number of non-zero values\n",
    "result_series = df[index_values].apply(lambda col: np.sum(col) / col[col != 0].count() if 0 in col.values else np.mean(col), axis=1)\n",
    "\n",
    "# Ergebnis als DataFrame mit dem gewünschten Index erstellen\n",
    "df['tech_index'] = pd.DataFrame(result_series, columns=['Mean_Value'], index=df.index)"
   ]
  },
  {
   "cell_type": "code",
   "execution_count": 82,
   "metadata": {},
   "outputs": [
    {
     "data": {
      "text/plain": [
       "7.0"
      ]
     },
     "execution_count": 82,
     "metadata": {},
     "output_type": "execute_result"
    }
   ],
   "source": [
    "df['tech_index'].max()"
   ]
  },
  {
   "cell_type": "code",
   "execution_count": 21,
   "metadata": {},
   "outputs": [
    {
     "name": "stdout",
     "output_type": "stream",
     "text": [
      "One-sample t-test result: t(48) = 6.93, p = 0.000\n",
      "Cohen's d: 0.99\n",
      "The result is statistically significant.\n"
     ]
    }
   ],
   "source": [
    "# One sample t-test Technical Affinity\n",
    "tech_mean = 4\n",
    "\n",
    "# One-sample t-test\n",
    "t_stat, p_value = stats.ttest_1samp(df['tech_index'], tech_mean)\n",
    "\n",
    "# Mean differences\n",
    "mean_diff = [i - tech_mean for i in df['tech_index']]\n",
    "\n",
    "# Pooled std_dev\n",
    "pooled_std_dev = np.std(mean_diff, ddof=1)\n",
    "\n",
    "# Calculate mean of the mean differences\n",
    "mean_mean_diff = np.mean(mean_diff)\n",
    "\n",
    "# Calculate Cohen's d\n",
    "d = mean_mean_diff / pooled_std_dev\n",
    "\n",
    "print(f\"One-sample t-test result: t({len(df) - 1}) = {t_stat:.2f}, p = {p_value:.3f}\")\n",
    "print(f\"Cohen's d: {d:.2f}\")\n",
    "\n",
    "# Check statisticall significance of the result, at a given alpha level\n",
    "alpha = 0.001\n",
    "if p_value < alpha:\n",
    "    print(\"The result is statistically significant.\")\n",
    "else:\n",
    "    print(\"The result is not statistically significant.\")"
   ]
  },
  {
   "cell_type": "code",
   "execution_count": 22,
   "metadata": {},
   "outputs": [
    {
     "name": "stdout",
     "output_type": "stream",
     "text": [
      "Spearman's Rank Correlation Technical Affinity - Gender: -0.5187293455995006\n",
      "p-Value aff_gen: 0.00013430260509834558\n",
      "Signifikanzniveau: ***\n"
     ]
    }
   ],
   "source": [
    "# Corrleation Analysis: Technical Affinity\n",
    "# Spearman's Rank Correlation: Technical Affinity - Gender\n",
    "correlation_aff_gen, p_value_aff_gen = stats.spearmanr(df[['tech_index', 'gender']])\n",
    "print(\"Spearman's Rank Correlation Technical Affinity - Gender:\", correlation_aff_gen)\n",
    "print(\"p-Value aff_gen:\", p_value_aff_gen)\n",
    "if p_value_aff_gen < 0.001:\n",
    "    signifikanzniveau = \"***\"\n",
    "elif p_value_aff_gen < 0.01:\n",
    "    signifikanzniveau = \"**\"\n",
    "elif p_value_aff_gen < 0.05:\n",
    "    signifikanzniveau = \"*\"\n",
    "else:\n",
    "    signifikanzniveau = \"n.s.\"\n",
    "\n",
    "print(\"Signifikanzniveau:\", signifikanzniveau)"
   ]
  },
  {
   "cell_type": "code",
   "execution_count": 23,
   "metadata": {},
   "outputs": [
    {
     "name": "stdout",
     "output_type": "stream",
     "text": [
      "Spearman's Rank Correlation Technical Affinity - Age: 0.22226186185434021\n",
      "p-Value aff_age: 0.1247987509046401\n",
      "Signifikanzniveau: n.s.\n"
     ]
    }
   ],
   "source": [
    "# Spearman's Rank Correlation: Technical Affinity - Age\n",
    "correlation_aff_age, p_value_aff_age = stats.spearmanr(df[['tech_index', 'age']])\n",
    "print(\"Spearman's Rank Correlation Technical Affinity - Age:\", correlation_aff_age)\n",
    "print(\"p-Value aff_age:\", p_value_aff_age)\n",
    "if p_value_aff_age < 0.001:\n",
    "    signifikanzniveau = \"***\"\n",
    "elif p_value_aff_age < 0.01:\n",
    "    signifikanzniveau = \"**\"\n",
    "elif p_value_aff_age < 0.05:\n",
    "    signifikanzniveau = \"*\"\n",
    "else:\n",
    "    signifikanzniveau = \"n.s.\"\n",
    "\n",
    "print(\"Signifikanzniveau:\", signifikanzniveau)"
   ]
  },
  {
   "cell_type": "code",
   "execution_count": 24,
   "metadata": {},
   "outputs": [
    {
     "name": "stdout",
     "output_type": "stream",
     "text": [
      "Spearman's Rank Correlation Technical Affinity - Education: 0.3147151314176317\n",
      "p-Value aff_edu: 0.02763469808509239\n",
      "Signifikanzniveau: *\n"
     ]
    }
   ],
   "source": [
    "# Spearman's Rank Correlation: Technical Affinity - Education\n",
    "correlation_aff_edu, p_value_aff_edu = stats.spearmanr(df[['tech_index', 'education']])\n",
    "print(\"Spearman's Rank Correlation Technical Affinity - Education:\", correlation_aff_edu)\n",
    "print(\"p-Value aff_edu:\", p_value_aff_edu)\n",
    "if p_value_aff_edu < 0.001:\n",
    "    signifikanzniveau = \"***\"\n",
    "elif p_value_aff_edu < 0.01:\n",
    "    signifikanzniveau = \"**\"\n",
    "elif p_value_aff_edu < 0.05:\n",
    "    signifikanzniveau = \"*\"\n",
    "else:\n",
    "    signifikanzniveau = \"n.s.\"\n",
    "\n",
    "print(\"Signifikanzniveau:\", signifikanzniveau)"
   ]
  },
  {
   "cell_type": "markdown",
   "metadata": {},
   "source": [
    "#### Attitude towards AI"
   ]
  },
  {
   "cell_type": "code",
   "execution_count": 25,
   "metadata": {},
   "outputs": [
    {
     "name": "stdout",
     "output_type": "stream",
     "text": [
      "21\n",
      "35\n"
     ]
    },
    {
     "data": {
      "image/png": "[encoded data removed]",
      "text/plain": [
       "<Figure size 432x288 with 1 Axes>"
      ]
     },
     "metadata": {
      "needs_background": "light"
     },
     "output_type": "display_data"
    }
   ],
   "source": [
    "# Attitude towards AI\n",
    "# Create Attitude towards AI Index --> Sum\n",
    "# Sum of: [att_ai_01\tatt_ai_02\tatt_ai_03\tatt_ai_04\tatt_ai_05\tatt_ai_06]\n",
    "df['Sum_Att'] = df[['att_ai_01', 'att_ai_02', 'att_ai_03', 'att_ai_04', 'att_ai_05_reversed', 'att_ai_06_reversed']].sum(axis=1)\n",
    "\n",
    "\n",
    "print(df['Sum_Att'].min()) # Min: 21\n",
    "print(df['Sum_Att'].max()) # Max: 35\n",
    "\n",
    "#Plot Distribution\n",
    "plt.hist(df['Sum_Att'], bins=10, color='blue', edgecolor='black')\n",
    "plt.xlabel('Sum of Values')\n",
    "plt.ylabel('Frequency')\n",
    "plt.title('Distribution Attitude towards AI')\n",
    "plt.grid(True)\n",
    "plt.show()"
   ]
  },
  {
   "cell_type": "code",
   "execution_count": 26,
   "metadata": {},
   "outputs": [
    {
     "data": {
      "text/plain": [
       "(0.5397425489968689, array([0.307, 0.714]))"
      ]
     },
     "execution_count": 26,
     "metadata": {},
     "output_type": "execute_result"
    }
   ],
   "source": [
    "# Cronbach's Alpha Attitude towards AI\n",
    "pg.cronbach_alpha(data=df[['att_ai_01', 'att_ai_02', 'att_ai_03', 'att_ai_04', 'att_ai_05_reversed', 'att_ai_06_reversed']])\n",
    "# Cronbachs alpha of 0.35 too low -> Explorative Factor Analysis to see which items cause the low cronbachs alpha"
   ]
  },
  {
   "cell_type": "code",
   "execution_count": 27,
   "metadata": {},
   "outputs": [
    {
     "name": "stdout",
     "output_type": "stream",
     "text": [
      "Chi-Square Value: 109.17852556677494\n",
      "P-Value: 2.3181536229757956e-16\n",
      "Faktorladungen:\n",
      "[[-0.73976122]\n",
      " [-0.82578797]\n",
      " [-0.78322844]\n",
      " [-0.70403136]\n",
      " [ 0.32417858]\n",
      " [ 0.11192035]]\n"
     ]
    }
   ],
   "source": [
    "# EFA - Factor Analysis\n",
    "data = df[['att_ai_01', 'att_ai_02', 'att_ai_03', 'att_ai_04', 'att_ai_05_reversed', 'att_ai_06_reversed']]\n",
    "\n",
    "# Bartlett's test statistic to check whether the data are suitable for factor analysis\n",
    "chi_square_value, p_value = calculate_bartlett_sphericity(data)\n",
    "print(f\"Chi-Square Value: {chi_square_value}\")\n",
    "print(f\"P-Value: {p_value}\")\n",
    "\n",
    "# Initialize the factor analysis object\n",
    "fa = FactorAnalyzer(n_factors=1, rotation=None)  # Set the number of factors to 1\n",
    "\n",
    "# Carry out the factor analysis\n",
    "fa.fit(data)\n",
    "\n",
    "# Extract the factor loadings\n",
    "factor_loadings = fa.loadings_\n",
    "\n",
    "# The factor loadings show how strongly each item correlates with the identified factor\n",
    "print(\"Faktorladungen:\")\n",
    "print(factor_loadings)\n",
    "\n",
    "## The different signs suggest that the first four items and the last two items probably represent different concepts or dimensions and do not share the same latent factor. "
   ]
  },
  {
   "cell_type": "code",
   "execution_count": 28,
   "metadata": {},
   "outputs": [
    {
     "data": {
      "text/plain": [
       "(0.8393412764665706, array([0.751, 0.902]))"
      ]
     },
     "execution_count": 28,
     "metadata": {},
     "output_type": "execute_result"
    }
   ],
   "source": [
    "# Cronbach's Alpha Attitude towards AI: Items 1-4, excluding 5 & 6\n",
    "pg.cronbach_alpha(data=df[['att_ai_01', 'att_ai_02', 'att_ai_03', 'att_ai_04']])\n",
    "# Now acceptable value of 0.84 -> exclusion of items att_ai_05 & att_ai_06 in the further analysis"
   ]
  },
  {
   "cell_type": "code",
   "execution_count": 85,
   "metadata": {},
   "outputs": [
    {
     "name": "stdout",
     "output_type": "stream",
     "text": [
      "5.6479591836734695\n",
      "0.3921559330717591\n"
     ]
    }
   ],
   "source": [
    "# Attitude towards AI (without last two items)\n",
    "# Mean + SD per Person\n",
    "# mean per person\n",
    "df['att_mean'] = df[['att_ai_01', 'att_ai_02', 'att_ai_03', 'att_ai_04']].mean(axis=1)\n",
    "\n",
    "# sd per person\n",
    "df['att_SD'] = df[['att_ai_01', 'att_ai_02', 'att_ai_03', 'att_ai_04']].std(axis=1)\n",
    "\n",
    "# Overall Mean + SD\n",
    "# Overall mean\n",
    "overall_mean_att = df['att_mean'].mean()\n",
    "print(overall_mean_att)\n",
    "\n",
    "# Overall SD\n",
    "overall_SD_att = df['att_SD'].std()\n",
    "print(overall_SD_att)\n"
   ]
  },
  {
   "cell_type": "code",
   "execution_count": 86,
   "metadata": {},
   "outputs": [
    {
     "data": {
      "text/plain": [
       "0.8368442198517713"
      ]
     },
     "execution_count": 86,
     "metadata": {},
     "output_type": "execute_result"
    }
   ],
   "source": [
    "# create index\n",
    "df['att_index'] = df[['att_ai_01', 'att_ai_02', 'att_ai_03', 'att_ai_04']].mean(axis=1)\n",
    "df['att_index'].std()"
   ]
  },
  {
   "cell_type": "code",
   "execution_count": 90,
   "metadata": {},
   "outputs": [
    {
     "data": {
      "text/plain": [
       "7.0"
      ]
     },
     "execution_count": 90,
     "metadata": {},
     "output_type": "execute_result"
    }
   ],
   "source": [
    "df['att_index'].max()"
   ]
  },
  {
   "cell_type": "code",
   "execution_count": 31,
   "metadata": {},
   "outputs": [
    {
     "name": "stdout",
     "output_type": "stream",
     "text": [
      "One-sample t-test result: t(48) = 13.78, p = 0.000\n",
      "Cohen's d: 1.97\n",
      "The result is statistically significant.\n"
     ]
    }
   ],
   "source": [
    "# One smaple t-test: Attitude towards AI\n",
    "att_mean = 4\n",
    "\n",
    "# Perform the one-sample t-test\n",
    "t_stat, p_value = stats.ttest_1samp(df['att_mean'], att_mean)\n",
    "\n",
    "# Mean differences\n",
    "mean_diff = [i - att_mean for i in df['att_mean']]\n",
    "\n",
    "# Pooled std_dev\n",
    "pooled_std_dev = np.std(mean_diff, ddof=1)\n",
    "\n",
    "# Calculate the mean of the mean differences\n",
    "mean_mean_diff = np.mean(mean_diff)\n",
    "\n",
    "# Calculate Cohen's d\n",
    "d = mean_mean_diff / pooled_std_dev\n",
    "\n",
    "print(f\"One-sample t-test result: t({len(df) - 1}) = {t_stat:.2f}, p = {p_value:.3f}\")\n",
    "print(f\"Cohen's d: {d:.2f}\")\n",
    "\n",
    "# Check statisticall significance of the result, at a given alpha level\n",
    "alpha = 0.001\n",
    "if p_value < alpha:\n",
    "    print(\"The result is statistically significant.\")\n",
    "else:\n",
    "    print(\"The result is not statistically significant.\")"
   ]
  },
  {
   "cell_type": "code",
   "execution_count": 32,
   "metadata": {},
   "outputs": [
    {
     "name": "stdout",
     "output_type": "stream",
     "text": [
      "Spearman's Rank Correlation Attitude - Gender: -0.43017589652212246\n",
      "p-Value att_gen: 0.002035112714304464\n",
      "Signifikanzniveau: **\n"
     ]
    }
   ],
   "source": [
    "# Correlation Analysis: Attitude towards AI\n",
    "# Spearman's Rank Correlation: Attitude towards AI - Gender\n",
    "correlation_att_gen, p_value_att_gen = stats.spearmanr(df[['att_index', 'gender']])\n",
    "print(\"Spearman's Rank Correlation Attitude - Gender:\", correlation_att_gen)\n",
    "print(\"p-Value att_gen:\", p_value_att_gen)\n",
    "if p_value_att_gen < 0.001:\n",
    "    signifikanzniveau = \"***\"\n",
    "elif p_value_att_gen < 0.01:\n",
    "    signifikanzniveau = \"**\"\n",
    "elif p_value_att_gen < 0.05:\n",
    "    signifikanzniveau = \"*\"\n",
    "else:\n",
    "    signifikanzniveau = \"n.s.\"\n",
    "\n",
    "print(\"Signifikanzniveau:\", signifikanzniveau)"
   ]
  },
  {
   "cell_type": "code",
   "execution_count": 33,
   "metadata": {},
   "outputs": [
    {
     "name": "stdout",
     "output_type": "stream",
     "text": [
      "Spearman's Rank Correlation Attitude - Age: 0.12403555136795746\n",
      "p-Value att_age: 0.39581414584171704\n",
      "Signifikanzniveau: n.s.\n"
     ]
    }
   ],
   "source": [
    "# Spearman's Rank Correlation: Attitude towards AI - Age\n",
    "correlation_att_age, p_value_att_age = stats.spearmanr(df[['att_index', 'age']])\n",
    "print(\"Spearman's Rank Correlation Attitude - Age:\", correlation_att_age)\n",
    "print(\"p-Value att_age:\", p_value_att_age)\n",
    "if p_value_att_age < 0.001:\n",
    "    signifikanzniveau = \"***\"\n",
    "elif p_value_att_age < 0.01:\n",
    "    signifikanzniveau = \"**\"\n",
    "elif p_value_att_age < 0.05:\n",
    "    signifikanzniveau = \"*\"\n",
    "else:\n",
    "    signifikanzniveau = \"n.s.\"\n",
    "\n",
    "print(\"Signifikanzniveau:\", signifikanzniveau)"
   ]
  },
  {
   "cell_type": "code",
   "execution_count": 34,
   "metadata": {},
   "outputs": [
    {
     "name": "stdout",
     "output_type": "stream",
     "text": [
      "Spearman's Rank Correlation Attitude - Education: 0.3707421388364729\n",
      "p-Value att_edu: 0.008731766655450526\n",
      "Signifikanzniveau: **\n"
     ]
    }
   ],
   "source": [
    "# Spearman's Rank Correlation: Attitude towards AI - Education\n",
    "correlation_att_edu, p_value_att_edu = stats.spearmanr(df[['att_index', 'education']])\n",
    "print(\"Spearman's Rank Correlation Attitude - Education:\", correlation_att_edu)\n",
    "print(\"p-Value att_edu:\", p_value_att_edu)\n",
    "if p_value_att_edu < 0.001:\n",
    "    signifikanzniveau = \"***\"\n",
    "elif p_value_att_edu < 0.01:\n",
    "    signifikanzniveau = \"**\"\n",
    "elif p_value_att_edu < 0.05:\n",
    "    signifikanzniveau = \"*\"\n",
    "else:\n",
    "    signifikanzniveau = \"n.s.\"\n",
    "\n",
    "print(\"Signifikanzniveau:\", signifikanzniveau)"
   ]
  },
  {
   "cell_type": "markdown",
   "metadata": {},
   "source": [
    "#### AI Expertise"
   ]
  },
  {
   "cell_type": "code",
   "execution_count": 35,
   "metadata": {},
   "outputs": [
    {
     "name": "stdout",
     "output_type": "stream",
     "text": [
      "29\n",
      "74\n"
     ]
    }
   ],
   "source": [
    "# AI Expertise\n",
    "# Create AI Expertise Index --> Sum\n",
    "# Sum of: ['use_apply_ai_01', 'use_apply_ai_02', 'know_un_ai_01', 'know_un_ai_02', 'know_un_ai_03', 'know_un_ai_04','detect_ai_01', 'detect_ai_02', 'ethics_ai_01', 'ethics_ai_02', 'create_ai_01', 'create_ai_02']\n",
    "df['expertise'] = df[['use_apply_ai_01', 'use_apply_ai_02', 'know_un_ai_01', 'know_un_ai_02', 'know_un_ai_03', 'know_un_ai_04','detect_ai_01', 'detect_ai_02', 'ethics_ai_01', 'ethics_ai_02', 'create_ai_01', 'create_ai_02']].sum(axis=1)\n",
    "\n",
    "print(df['expertise'].min())#29\n",
    "print(df['expertise'].max()) #74"
   ]
  },
  {
   "cell_type": "code",
   "execution_count": 36,
   "metadata": {},
   "outputs": [
    {
     "name": "stdout",
     "output_type": "stream",
     "text": [
      "4.469387755102041\n",
      "0.36017077066263475\n"
     ]
    },
    {
     "data": {
      "image/png": "[encoded data removed]",
      "text/plain": [
       "<Figure size 432x288 with 1 Axes>"
      ]
     },
     "metadata": {
      "needs_background": "light"
     },
     "output_type": "display_data"
    }
   ],
   "source": [
    "# mean per person\n",
    "df['exp_mean'] = df[['use_apply_ai_01', 'use_apply_ai_02', 'know_un_ai_01', 'know_un_ai_02', 'know_un_ai_03', 'know_un_ai_04','detect_ai_01', 'detect_ai_02', 'ethics_ai_01', 'ethics_ai_02', 'create_ai_01', 'create_ai_02']].mean(axis=1)\n",
    "\n",
    "# sd per person\n",
    "df['exp_SD'] = df[['use_apply_ai_01', 'use_apply_ai_02', 'know_un_ai_01', 'know_un_ai_02', 'know_un_ai_03', 'know_un_ai_04','detect_ai_01', 'detect_ai_02', 'ethics_ai_01', 'ethics_ai_02', 'create_ai_01', 'create_ai_02']].std(axis=1)\n",
    "\n",
    "# Overall mean\n",
    "overall_mean_exp = df['exp_mean'].mean()\n",
    "print(overall_mean_exp)\n",
    "\n",
    "# Overall SD\n",
    "overall_SD_exp = df['exp_SD'].std()\n",
    "print(overall_SD_exp)\n",
    "\n",
    "plt.hist(df['expertise'], bins=10, color='blue', edgecolor='black')\n",
    "plt.xlabel('Sum of Values')\n",
    "plt.ylabel('Frequency')\n",
    "plt.title('Histogram of Summed Values')\n",
    "plt.grid(True)\n",
    "plt.show()"
   ]
  },
  {
   "cell_type": "code",
   "execution_count": 91,
   "metadata": {},
   "outputs": [],
   "source": [
    "# Create index -> take care of missing values\n",
    "index_values = ['use_apply_ai_01', 'use_apply_ai_02', 'know_un_ai_01', 'know_un_ai_02', 'know_un_ai_03', 'know_un_ai_04','detect_ai_01', 'detect_ai_02', 'ethics_ai_01', 'ethics_ai_02', 'create_ai_01', 'create_ai_02']\n",
    "\n",
    "# If the original value is 0, replace the total with the number of non-zero values\n",
    "result_series = df[index_values].apply(lambda col: np.sum(col) / col[col != 0].count() if 0 in col.values else np.mean(col), axis=1)\n",
    "\n",
    "# Ergebnis als DataFrame mit dem gewünschten Index erstellen\n",
    "df['exp_index'] = pd.DataFrame(result_series, columns=['Mean_Value'], index=df.index)\n",
    "df['exp_index'] = df['exp_index'].round(2)"
   ]
  },
  {
   "cell_type": "code",
   "execution_count": 95,
   "metadata": {},
   "outputs": [
    {
     "data": {
      "text/plain": [
       "6.17"
      ]
     },
     "execution_count": 95,
     "metadata": {},
     "output_type": "execute_result"
    }
   ],
   "source": [
    "df['exp_index'].max()"
   ]
  },
  {
   "cell_type": "code",
   "execution_count": 38,
   "metadata": {},
   "outputs": [
    {
     "data": {
      "text/plain": [
       "(0.9037041881048044, array([0.859, 0.939]))"
      ]
     },
     "execution_count": 38,
     "metadata": {},
     "output_type": "execute_result"
    }
   ],
   "source": [
    "#AI Expertise: all\n",
    "pg.cronbach_alpha(data=df[['use_apply_ai_01', 'use_apply_ai_02', 'know_un_ai_01', 'know_un_ai_02', 'know_un_ai_03', 'know_un_ai_04', 'detect_ai_01', 'detect_ai_02', 'ethics_ai_01', 'ethics_ai_02', 'create_ai_01', 'create_ai_02']])"
   ]
  },
  {
   "cell_type": "code",
   "execution_count": 39,
   "metadata": {},
   "outputs": [
    {
     "name": "stdout",
     "output_type": "stream",
     "text": [
      "One-sample t-test result: t(48) = 3.19, p = 0.002\n",
      "Cohen's d: 0.46\n",
      "The result is statistically significant.\n"
     ]
    }
   ],
   "source": [
    "# One sample t-test attitude towards AI\n",
    "exp_mean = 4\n",
    "\n",
    "# Perform the one-sample t-test\n",
    "t_stat, p_value = stats.ttest_1samp(df['exp_index'], exp_mean)\n",
    "\n",
    "# Mean differences\n",
    "mean_diff = [i - exp_mean for i in df['exp_index']]\n",
    "\n",
    "# Pooled std-dev\n",
    "pooled_std_dev = np.std(mean_diff, ddof=1)\n",
    "\n",
    "# Calculate the mean of the mean differences\n",
    "mean_mean_diff = np.mean(mean_diff)\n",
    "\n",
    "# Calculate Cohen's d\n",
    "d = mean_mean_diff / pooled_std_dev\n",
    "\n",
    "print(f\"One-sample t-test result: t({len(df) - 1}) = {t_stat:.2f}, p = {p_value:.3f}\")\n",
    "print(f\"Cohen's d: {d:.2f}\")\n",
    "\n",
    "# Check statisticall significance of the result, at a given alpha level\n",
    "alpha = 0.05\n",
    "if p_value < alpha:\n",
    "    print(\"The result is statistically significant.\")\n",
    "else:\n",
    "    print(\"The result is not statistically significant.\")"
   ]
  },
  {
   "cell_type": "code",
   "execution_count": 40,
   "metadata": {},
   "outputs": [
    {
     "name": "stdout",
     "output_type": "stream",
     "text": [
      "Spearman's Rank Correlation Expertise - Gender: -0.4685297698216428\n",
      "p-Value exp_gen: 0.0006855284387628765\n",
      "Signifikanzniveau: ***\n"
     ]
    }
   ],
   "source": [
    "# Correlation Analysis: AI Expertise\n",
    "# Spearman's Rank Correlation: AI Expertise - Gender\n",
    "correlation_exp_gen, p_value_exp_gen = stats.spearmanr(df[['exp_index', 'gender']])\n",
    "print(\"Spearman's Rank Correlation Expertise - Gender:\", correlation_exp_gen)\n",
    "print(\"p-Value exp_gen:\", p_value_exp_gen)\n",
    "if p_value_exp_gen < 0.001:\n",
    "    signifikanzniveau = \"***\"\n",
    "elif p_value_exp_gen < 0.01:\n",
    "    signifikanzniveau = \"**\"\n",
    "elif p_value_exp_gen < 0.05:\n",
    "    signifikanzniveau = \"*\"\n",
    "else:\n",
    "    signifikanzniveau = \"n.s.\"\n",
    "\n",
    "print(\"Signifikanzniveau:\", signifikanzniveau)"
   ]
  },
  {
   "cell_type": "code",
   "execution_count": 41,
   "metadata": {},
   "outputs": [
    {
     "name": "stdout",
     "output_type": "stream",
     "text": [
      "Spearman's Rank Correlation Expertise - Age: 0.030083117733226604\n",
      "p-Value exp_age: 0.8374221503243628\n",
      "Signifikanzniveau: n.s.\n"
     ]
    }
   ],
   "source": [
    "# Spearman's Rank Correlation: AI Expertise - Age\n",
    "correlation_exp_age, p_value_exp_age = stats.spearmanr(df[['exp_index', 'age']])\n",
    "print(\"Spearman's Rank Correlation Expertise - Age:\", correlation_exp_age)\n",
    "print(\"p-Value exp_age:\", p_value_exp_age)\n",
    "if p_value_exp_age < 0.001:\n",
    "    signifikanzniveau = \"***\"\n",
    "elif p_value_exp_age < 0.01:\n",
    "    signifikanzniveau = \"**\"\n",
    "elif p_value_exp_age < 0.05:\n",
    "    signifikanzniveau = \"*\"\n",
    "else:\n",
    "    signifikanzniveau = \"n.s.\"\n",
    "\n",
    "print(\"Signifikanzniveau:\", signifikanzniveau)"
   ]
  },
  {
   "cell_type": "code",
   "execution_count": 42,
   "metadata": {},
   "outputs": [
    {
     "name": "stdout",
     "output_type": "stream",
     "text": [
      "Spearman's Rank Correlation Expertise - Education: 0.45799581164717834\n",
      "p-Value exp_edu: 0.0009360798916745703\n",
      "Signifikanzniveau: ***\n"
     ]
    }
   ],
   "source": [
    "# Spearman's Rank Correlation: AI Expertise - Education\n",
    "correlation_exp_edu, p_value_exp_edu = stats.spearmanr(df[['exp_index', 'education']])\n",
    "print(\"Spearman's Rank Correlation Expertise - Education:\", correlation_exp_edu)\n",
    "print(\"p-Value exp_edu:\", p_value_exp_edu)\n",
    "if p_value_exp_edu < 0.001:\n",
    "    signifikanzniveau = \"***\"\n",
    "elif p_value_exp_edu < 0.01:\n",
    "    signifikanzniveau = \"**\"\n",
    "elif p_value_exp_edu < 0.05:\n",
    "    signifikanzniveau = \"*\"\n",
    "else:\n",
    "    signifikanzniveau = \"n.s.\"\n",
    "\n",
    "print(\"Signifikanzniveau:\", signifikanzniveau)"
   ]
  },
  {
   "cell_type": "markdown",
   "metadata": {},
   "source": [
    "## Data Analysis\n",
    "### Prepare datset for multilevel analysis"
   ]
  },
  {
   "cell_type": "code",
   "execution_count": 133,
   "metadata": {},
   "outputs": [],
   "source": [
    "# Create new columns for dependent variables\n",
    "# XAI Scope\n",
    "df['xai_scope_1'] = 'local'\n",
    "df['xai_scope_2'] = 'local'\n",
    "df['xai_scope_3'] = 'local'\n",
    "df['xai_scope_4'] = 'local'\n",
    "df['xai_scope_5'] = 'global'\n",
    "df['xai_scope_6'] = 'global'\n",
    "df['xai_scope_7'] = 'global'\n",
    "df['xai_scope_8'] = 'global'\n",
    "df['xai_scope_9'] = 'global'\n",
    "\n",
    "# Explanation Type\n",
    "df['expl_type_1'] = 'why'\n",
    "df['expl_type_2'] = 'why-not'\n",
    "df['expl_type_3'] = 'how'\n",
    "df['expl_type_4'] = 'what-else'\n",
    "df['expl_type_5'] = 'why'\n",
    "df['expl_type_6'] = 'how'\n",
    "df['expl_type_7'] = 'how-to'\n",
    "df['expl_type_8'] = 'why-not'\n",
    "df['expl_type_9'] = 'what-if'"
   ]
  },
  {
   "cell_type": "code",
   "execution_count": 134,
   "metadata": {},
   "outputs": [],
   "source": [
    "# Drop lfdn column\n",
    "df = df.drop(\"lfdn\", axis=1)"
   ]
  },
  {
   "cell_type": "code",
   "execution_count": 135,
   "metadata": {},
   "outputs": [
    {
     "data": {
      "text/html": [
       "<div>\n",
       "<style scoped>\n",
       "    .dataframe tbody tr th:only-of-type {\n",
       "        vertical-align: middle;\n",
       "    }\n",
       "\n",
       "    .dataframe tbody tr th {\n",
       "        vertical-align: top;\n",
       "    }\n",
       "\n",
       "    .dataframe thead th {\n",
       "        text-align: right;\n",
       "    }\n",
       "</style>\n",
       "<table border=\"1\" class=\"dataframe\">\n",
       "  <thead>\n",
       "    <tr style=\"text-align: right;\">\n",
       "      <th></th>\n",
       "      <th>ID</th>\n",
       "      <th>xai_scope</th>\n",
       "    </tr>\n",
       "  </thead>\n",
       "  <tbody>\n",
       "    <tr>\n",
       "      <th>0</th>\n",
       "      <td>1</td>\n",
       "      <td>local</td>\n",
       "    </tr>\n",
       "    <tr>\n",
       "      <th>1</th>\n",
       "      <td>2</td>\n",
       "      <td>local</td>\n",
       "    </tr>\n",
       "  </tbody>\n",
       "</table>\n",
       "</div>"
      ],
      "text/plain": [
       "   ID xai_scope\n",
       "0   1     local\n",
       "1   2     local"
      ]
     },
     "execution_count": 135,
     "metadata": {},
     "output_type": "execute_result"
    }
   ],
   "source": [
    "# xai_scope\n",
    "xai_scope = df.melt(id_vars=['ID'], value_vars=['xai_scope_1', 'xai_scope_2', 'xai_scope_3', 'xai_scope_4', 'xai_scope_5', 'xai_scope_6', 'xai_scope_7', 'xai_scope_8', 'xai_scope_9'], var_name='xai_scope_2', value_name='xai_scope')\n",
    "xai_scope = xai_scope.drop(\"xai_scope_2\", axis=1)\n",
    "xai_scope.head(2)"
   ]
  },
  {
   "cell_type": "code",
   "execution_count": 136,
   "metadata": {},
   "outputs": [
    {
     "data": {
      "text/html": [
       "<div>\n",
       "<style scoped>\n",
       "    .dataframe tbody tr th:only-of-type {\n",
       "        vertical-align: middle;\n",
       "    }\n",
       "\n",
       "    .dataframe tbody tr th {\n",
       "        vertical-align: top;\n",
       "    }\n",
       "\n",
       "    .dataframe thead th {\n",
       "        text-align: right;\n",
       "    }\n",
       "</style>\n",
       "<table border=\"1\" class=\"dataframe\">\n",
       "  <thead>\n",
       "    <tr style=\"text-align: right;\">\n",
       "      <th></th>\n",
       "      <th>ID</th>\n",
       "      <th>expl_type</th>\n",
       "    </tr>\n",
       "  </thead>\n",
       "  <tbody>\n",
       "    <tr>\n",
       "      <th>0</th>\n",
       "      <td>1</td>\n",
       "      <td>why</td>\n",
       "    </tr>\n",
       "    <tr>\n",
       "      <th>1</th>\n",
       "      <td>2</td>\n",
       "      <td>why</td>\n",
       "    </tr>\n",
       "  </tbody>\n",
       "</table>\n",
       "</div>"
      ],
      "text/plain": [
       "   ID expl_type\n",
       "0   1       why\n",
       "1   2       why"
      ]
     },
     "execution_count": 136,
     "metadata": {},
     "output_type": "execute_result"
    }
   ],
   "source": [
    "# expl_type\n",
    "expl_type = df.melt(id_vars=['ID'], value_vars=['expl_type_1', 'expl_type_2', 'expl_type_3', 'expl_type_4', 'expl_type_5', 'expl_type_6', 'expl_type_7', 'expl_type_8', 'expl_type_9'], var_name='expl_type_2', value_name='expl_type')\n",
    "expl_type = expl_type.drop(\"expl_type_2\", axis=1)\n",
    "expl_type.head(2)"
   ]
  },
  {
   "cell_type": "code",
   "execution_count": 137,
   "metadata": {},
   "outputs": [
    {
     "data": {
      "text/html": [
       "<div>\n",
       "<style scoped>\n",
       "    .dataframe tbody tr th:only-of-type {\n",
       "        vertical-align: middle;\n",
       "    }\n",
       "\n",
       "    .dataframe tbody tr th {\n",
       "        vertical-align: top;\n",
       "    }\n",
       "\n",
       "    .dataframe thead th {\n",
       "        text-align: right;\n",
       "    }\n",
       "</style>\n",
       "<table border=\"1\" class=\"dataframe\">\n",
       "  <thead>\n",
       "    <tr style=\"text-align: right;\">\n",
       "      <th></th>\n",
       "      <th>ID</th>\n",
       "      <th>rating</th>\n",
       "    </tr>\n",
       "  </thead>\n",
       "  <tbody>\n",
       "    <tr>\n",
       "      <th>0</th>\n",
       "      <td>1</td>\n",
       "      <td>6</td>\n",
       "    </tr>\n",
       "    <tr>\n",
       "      <th>1</th>\n",
       "      <td>2</td>\n",
       "      <td>6</td>\n",
       "    </tr>\n",
       "  </tbody>\n",
       "</table>\n",
       "</div>"
      ],
      "text/plain": [
       "   ID  rating\n",
       "0   1       6\n",
       "1   2       6"
      ]
     },
     "execution_count": 137,
     "metadata": {},
     "output_type": "execute_result"
    }
   ],
   "source": [
    "# explainability\n",
    "explainability = df.melt(id_vars=['ID'], value_vars=['why_local', 'why_not_local', 'how_local', 'what_else_local', 'why_global', 'how_global',\t'why_not_global', 'how_to_global', 'what_if_global'], var_name='expl_rating', value_name='rating')\n",
    "explainability = explainability.drop(\"expl_rating\", axis=1)\n",
    "explainability.head(2)"
   ]
  },
  {
   "cell_type": "code",
   "execution_count": 138,
   "metadata": {},
   "outputs": [],
   "source": [
    "df_long = pd.concat([xai_scope, expl_type, explainability], axis=1)\n",
    "df_long = df_long.loc[:, ~df_long.columns.duplicated()]\n",
    "#df_long.shape\n",
    "#df_long.head()"
   ]
  },
  {
   "cell_type": "code",
   "execution_count": 79,
   "metadata": {},
   "outputs": [],
   "source": [
    "merged_df = df_long.merge(df[['ID', 'exp_index', 'tech_index', 'att_index', 'age', 'gender', 'education', 'job_groups']], on='ID', how='left')"
   ]
  },
  {
   "cell_type": "code",
   "execution_count": 139,
   "metadata": {},
   "outputs": [],
   "source": [
    "merged_df = df_long.merge(df[['ID', 'expertise', 'Sum_TechAff', 'Sum_Att', 'age', 'gender', 'education', 'job_groups']], on='ID', how='left')"
   ]
  },
  {
   "cell_type": "code",
   "execution_count": 140,
   "metadata": {},
   "outputs": [
    {
     "data": {
      "text/html": [
       "<div>\n",
       "<style scoped>\n",
       "    .dataframe tbody tr th:only-of-type {\n",
       "        vertical-align: middle;\n",
       "    }\n",
       "\n",
       "    .dataframe tbody tr th {\n",
       "        vertical-align: top;\n",
       "    }\n",
       "\n",
       "    .dataframe thead th {\n",
       "        text-align: right;\n",
       "    }\n",
       "</style>\n",
       "<table border=\"1\" class=\"dataframe\">\n",
       "  <thead>\n",
       "    <tr style=\"text-align: right;\">\n",
       "      <th></th>\n",
       "      <th>ID</th>\n",
       "      <th>xai_scope</th>\n",
       "      <th>expl_type</th>\n",
       "      <th>rating</th>\n",
       "      <th>expertise</th>\n",
       "      <th>techaff</th>\n",
       "      <th>att</th>\n",
       "      <th>age</th>\n",
       "      <th>gender</th>\n",
       "      <th>education</th>\n",
       "      <th>job_groups</th>\n",
       "    </tr>\n",
       "  </thead>\n",
       "  <tbody>\n",
       "    <tr>\n",
       "      <th>0</th>\n",
       "      <td>1</td>\n",
       "      <td>local</td>\n",
       "      <td>why</td>\n",
       "      <td>6</td>\n",
       "      <td>46</td>\n",
       "      <td>18</td>\n",
       "      <td>22</td>\n",
       "      <td>3</td>\n",
       "      <td>2</td>\n",
       "      <td>3</td>\n",
       "      <td>User</td>\n",
       "    </tr>\n",
       "    <tr>\n",
       "      <th>250</th>\n",
       "      <td>1</td>\n",
       "      <td>global</td>\n",
       "      <td>how</td>\n",
       "      <td>7</td>\n",
       "      <td>46</td>\n",
       "      <td>18</td>\n",
       "      <td>22</td>\n",
       "      <td>3</td>\n",
       "      <td>2</td>\n",
       "      <td>3</td>\n",
       "      <td>User</td>\n",
       "    </tr>\n",
       "  </tbody>\n",
       "</table>\n",
       "</div>"
      ],
      "text/plain": [
       "     ID xai_scope expl_type  rating  expertise  techaff  att  age  gender  \\\n",
       "0     1     local       why       6         46       18   22    3       2   \n",
       "250   1    global       how       7         46       18   22    3       2   \n",
       "\n",
       "     education job_groups  \n",
       "0            3       User  \n",
       "250          3       User  "
      ]
     },
     "execution_count": 140,
     "metadata": {},
     "output_type": "execute_result"
    }
   ],
   "source": [
    "# sort dataframe\n",
    "df_sorted = merged_df.sort_values(by=['ID'])\n",
    "\n",
    "#rename columns\n",
    "df_sorted.rename(columns={'Sum_TechAff': 'techaff'}, inplace=True)\n",
    "df_sorted.rename(columns={'Sum_Att': 'att'}, inplace=True)\n",
    "df_sorted.head(2)"
   ]
  },
  {
   "cell_type": "code",
   "execution_count": 141,
   "metadata": {},
   "outputs": [],
   "source": [
    "# To csv\n",
    "df_sorted.to_csv('survey_data_sum_all.csv', index=False)"
   ]
  },
  {
   "cell_type": "code",
   "execution_count": 45,
   "metadata": {},
   "outputs": [],
   "source": [
    "# Load Data\n",
    "data = pd.read_csv('C:/Users/ricar/Desktop/Data/survey_data.csv', sep=',')"
   ]
  }
 ],
 "metadata": {
  "kernelspec": {
   "display_name": "Python 3",
   "language": "python",
   "name": "python3"
  },
  "language_info": {
   "codemirror_mode": {
    "name": "ipython",
    "version": 3
   },
   "file_extension": ".py",
   "mimetype": "text/x-python",
   "name": "python",
   "nbconvert_exporter": "python",
   "pygments_lexer": "ipython3",
   "version": "3.9.7"
  }
 },
 "nbformat": 4,
 "nbformat_minor": 2
}
