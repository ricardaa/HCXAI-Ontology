{
 "cells": [
  {
   "cell_type": "code",
   "execution_count": 2,
   "metadata": {},
   "outputs": [],
   "source": [
    "from rdflib import Graph, URIRef, Literal\n",
    "import csv\n",
    "\n",
    "# RDF-Datei laden\n",
    "rdf_file = \"C:/Users/ricar/Desktop/protege/01_ml_filled.rdf\"\n",
    "graph = Graph()\n",
    "graph.parse(rdf_file, format=\"xml\")  # Du kannst das Format entsprechend deiner RDF-Datei ändern\n",
    "\n",
    "# CSV-Datei zum Speichern der konvertierten Daten\n",
    "csv_file = \"01_ml_converted.csv\"\n",
    "\n",
    "# CSV-Datei schreiben\n",
    "with open(csv_file, mode='w', newline='', encoding='utf-8') as file:\n",
    "    writer = csv.writer(file)\n",
    "    writer.writerow(['Subject', 'Predicate', 'Object'])\n",
    "\n",
    "    # Iteriere durch RDF-Tripel und schreibe sie in die CSV-Datei\n",
    "    for subj, pred, obj in graph:\n",
    "        writer.writerow([subj, pred, obj])\n"
   ]
  },
  {
   "cell_type": "code",
   "execution_count": null,
   "metadata": {},
   "outputs": [],
   "source": [
    "python dein_skript.py"
   ]
  },
  {
   "cell_type": "code",
   "execution_count": 28,
   "metadata": {},
   "outputs": [],
   "source": [
    "import pandas"
   ]
  },
  {
   "cell_type": "code",
   "execution_count": null,
   "metadata": {},
   "outputs": [],
   "source": [
    "import pandas as pd\n",
    "from rdflib import Graph, Namespace, Literal, URIRef, RDF\n",
    "\n",
    "# Laden Sie Ihre CSV-Datei\n",
    "csv_file_path = 'C:/Users/ricar/Desktop/Data/data_survey_für_ontologie.csv'\n",
    "df = pd.read_csv(csv_file_path)\n",
    "\n",
    "# Definieren Sie den RDF-Graphen und den Namespace\n",
    "graph = Graph()\n",
    "ex = Namespace('http://example.org/')\n",
    "\n",
    "# Iterieren Sie durch jede Zeile der CSV-Datei und fügen Sie RDF-Tripel hinzu\n",
    "for index, row in df.iterrows():\n",
    "    subject = ex[row['Subject']]  # Annahme: Die Spalte 'Subject' enthält URIs\n",
    "    predicate = ex['hasDate']\n",
    "    date_literal = Literal(row['Date'])  # Annahme: Die Spalte 'Date' enthält Datumsangaben\n",
    "    graph.add((subject, predicate, date_literal))\n",
    "\n",
    "# Speichern Sie den RDF-Graphen in einer Datei\n",
    "output_file_path = 'pfad/zur/ausgabe.ttl'\n",
    "graph.serialize(output_file_path, format='turtle')\n"
   ]
  },
  {
   "cell_type": "code",
   "execution_count": 1,
   "metadata": {},
   "outputs": [],
   "source": [
    "import pandas as pd\n",
    "from rdflib import Graph, Namespace, Literal, URIRef, RDF"
   ]
  },
  {
   "cell_type": "code",
   "execution_count": 2,
   "metadata": {},
   "outputs": [],
   "source": [
    "# Load csv-data\n",
    "csv_file_path = 'C:/Users/ricar/Desktop/Data/data_survey.csv'\n",
    "df = pd.read_csv(csv_file_path)\n"
   ]
  },
  {
   "cell_type": "code",
   "execution_count": 6,
   "metadata": {},
   "outputs": [],
   "source": [
    "# Define RDF-Graphen and Namespace\n",
    "graph = Graph()\n",
    "ex = Namespace('http://survey_data.org/')"
   ]
  },
  {
   "cell_type": "code",
   "execution_count": 8,
   "metadata": {},
   "outputs": [
    {
     "data": {
      "text/html": [
       "<div>\n",
       "<style scoped>\n",
       "    .dataframe tbody tr th:only-of-type {\n",
       "        vertical-align: middle;\n",
       "    }\n",
       "\n",
       "    .dataframe tbody tr th {\n",
       "        vertical-align: top;\n",
       "    }\n",
       "\n",
       "    .dataframe thead th {\n",
       "        text-align: right;\n",
       "    }\n",
       "</style>\n",
       "<table border=\"1\" class=\"dataframe\">\n",
       "  <thead>\n",
       "    <tr style=\"text-align: right;\">\n",
       "      <th></th>\n",
       "      <th>lfdn</th>\n",
       "      <th>why_local</th>\n",
       "      <th>why_not_local</th>\n",
       "      <th>how_local</th>\n",
       "      <th>what_else_local</th>\n",
       "      <th>why_global</th>\n",
       "      <th>how_global</th>\n",
       "      <th>why_not_global</th>\n",
       "      <th>how_to_global</th>\n",
       "      <th>what_if_global</th>\n",
       "      <th>...</th>\n",
       "      <th>detect_ai_02</th>\n",
       "      <th>ethics_ai_01</th>\n",
       "      <th>ethics_ai_02</th>\n",
       "      <th>create_ai_01</th>\n",
       "      <th>create_ai_02</th>\n",
       "      <th>age</th>\n",
       "      <th>gender</th>\n",
       "      <th>education</th>\n",
       "      <th>job_title</th>\n",
       "      <th>job_groups</th>\n",
       "    </tr>\n",
       "  </thead>\n",
       "  <tbody>\n",
       "    <tr>\n",
       "      <th>0</th>\n",
       "      <td>44</td>\n",
       "      <td>6</td>\n",
       "      <td>7</td>\n",
       "      <td>4</td>\n",
       "      <td>7</td>\n",
       "      <td>7</td>\n",
       "      <td>7</td>\n",
       "      <td>6</td>\n",
       "      <td>4</td>\n",
       "      <td>6</td>\n",
       "      <td>...</td>\n",
       "      <td>5</td>\n",
       "      <td>3</td>\n",
       "      <td>2</td>\n",
       "      <td>2</td>\n",
       "      <td>2</td>\n",
       "      <td>3</td>\n",
       "      <td>2</td>\n",
       "      <td>3</td>\n",
       "      <td>Project manager</td>\n",
       "      <td>User</td>\n",
       "    </tr>\n",
       "    <tr>\n",
       "      <th>1</th>\n",
       "      <td>42</td>\n",
       "      <td>6</td>\n",
       "      <td>5</td>\n",
       "      <td>2</td>\n",
       "      <td>3</td>\n",
       "      <td>6</td>\n",
       "      <td>2</td>\n",
       "      <td>7</td>\n",
       "      <td>4</td>\n",
       "      <td>5</td>\n",
       "      <td>...</td>\n",
       "      <td>5</td>\n",
       "      <td>5</td>\n",
       "      <td>2</td>\n",
       "      <td>1</td>\n",
       "      <td>1</td>\n",
       "      <td>2</td>\n",
       "      <td>2</td>\n",
       "      <td>3</td>\n",
       "      <td>Consultant in project accounting</td>\n",
       "      <td>User</td>\n",
       "    </tr>\n",
       "    <tr>\n",
       "      <th>2</th>\n",
       "      <td>50</td>\n",
       "      <td>4</td>\n",
       "      <td>6</td>\n",
       "      <td>2</td>\n",
       "      <td>3</td>\n",
       "      <td>6</td>\n",
       "      <td>5</td>\n",
       "      <td>6</td>\n",
       "      <td>5</td>\n",
       "      <td>6</td>\n",
       "      <td>...</td>\n",
       "      <td>4</td>\n",
       "      <td>3</td>\n",
       "      <td>2</td>\n",
       "      <td>5</td>\n",
       "      <td>6</td>\n",
       "      <td>2</td>\n",
       "      <td>1</td>\n",
       "      <td>4</td>\n",
       "      <td>phd candidate in software engineering</td>\n",
       "      <td>Developer</td>\n",
       "    </tr>\n",
       "    <tr>\n",
       "      <th>3</th>\n",
       "      <td>52</td>\n",
       "      <td>7</td>\n",
       "      <td>5</td>\n",
       "      <td>1</td>\n",
       "      <td>5</td>\n",
       "      <td>6</td>\n",
       "      <td>2</td>\n",
       "      <td>5</td>\n",
       "      <td>5</td>\n",
       "      <td>2</td>\n",
       "      <td>...</td>\n",
       "      <td>3</td>\n",
       "      <td>3</td>\n",
       "      <td>4</td>\n",
       "      <td>2</td>\n",
       "      <td>2</td>\n",
       "      <td>4</td>\n",
       "      <td>1</td>\n",
       "      <td>4</td>\n",
       "      <td>Consultant (Technology transfer and innovation)</td>\n",
       "      <td>User</td>\n",
       "    </tr>\n",
       "    <tr>\n",
       "      <th>4</th>\n",
       "      <td>54</td>\n",
       "      <td>6</td>\n",
       "      <td>5</td>\n",
       "      <td>3</td>\n",
       "      <td>3</td>\n",
       "      <td>6</td>\n",
       "      <td>5</td>\n",
       "      <td>7</td>\n",
       "      <td>3</td>\n",
       "      <td>5</td>\n",
       "      <td>...</td>\n",
       "      <td>4</td>\n",
       "      <td>5</td>\n",
       "      <td>3</td>\n",
       "      <td>6</td>\n",
       "      <td>6</td>\n",
       "      <td>3</td>\n",
       "      <td>2</td>\n",
       "      <td>5</td>\n",
       "      <td>Data scientist</td>\n",
       "      <td>Developer</td>\n",
       "    </tr>\n",
       "  </tbody>\n",
       "</table>\n",
       "<p>5 rows × 37 columns</p>\n",
       "</div>"
      ],
      "text/plain": [
       "   lfdn  why_local  why_not_local  how_local  what_else_local  why_global  \\\n",
       "0    44          6              7          4                7           7   \n",
       "1    42          6              5          2                3           6   \n",
       "2    50          4              6          2                3           6   \n",
       "3    52          7              5          1                5           6   \n",
       "4    54          6              5          3                3           6   \n",
       "\n",
       "   how_global  why_not_global  how_to_global  what_if_global  ...  \\\n",
       "0           7               6              4               6  ...   \n",
       "1           2               7              4               5  ...   \n",
       "2           5               6              5               6  ...   \n",
       "3           2               5              5               2  ...   \n",
       "4           5               7              3               5  ...   \n",
       "\n",
       "   detect_ai_02  ethics_ai_01  ethics_ai_02  create_ai_01  create_ai_02  age  \\\n",
       "0             5             3             2             2             2    3   \n",
       "1             5             5             2             1             1    2   \n",
       "2             4             3             2             5             6    2   \n",
       "3             3             3             4             2             2    4   \n",
       "4             4             5             3             6             6    3   \n",
       "\n",
       "   gender  education                                        job_title  \\\n",
       "0       2          3                                  Project manager   \n",
       "1       2          3                 Consultant in project accounting   \n",
       "2       1          4            phd candidate in software engineering   \n",
       "3       1          4  Consultant (Technology transfer and innovation)   \n",
       "4       2          5                                   Data scientist   \n",
       "\n",
       "   job_groups  \n",
       "0        User  \n",
       "1        User  \n",
       "2   Developer  \n",
       "3        User  \n",
       "4   Developer  \n",
       "\n",
       "[5 rows x 37 columns]"
      ]
     },
     "execution_count": 8,
     "metadata": {},
     "output_type": "execute_result"
    }
   ],
   "source": [
    "df = pd.read_csv('C:/Users/ricar/Desktop/Data/data_survey.csv', sep=';')\n",
    "df.head()"
   ]
  },
  {
   "cell_type": "code",
   "execution_count": 9,
   "metadata": {},
   "outputs": [],
   "source": [
    "# Iterieren Sie durch jede Zeile der CSV-Datei und fügen Sie RDF-Tripel hinzu\n",
    "for index, row in df.iterrows():\n",
    "    participant_uri = ex[f'participant_{row[\"lfdn\"]}']\n",
    "\n",
    "    # Fügen Sie Tripel für jede Variable hinzu\n",
    "    for column in df.columns:\n",
    "        if column != \"lfdn\":  # Überspringen Sie die Spalte \"lfdn\"\n",
    "            property_uri = ex[column]\n",
    "            value_literal = Literal(row[column])\n",
    "\n",
    "            # Fügen Sie Tripel für die Umfrageergebnisse hinzu\n",
    "            graph.add((participant_uri, property_uri, value_literal))"
   ]
  },
  {
   "cell_type": "code",
   "execution_count": 10,
   "metadata": {},
   "outputs": [
    {
     "data": {
      "text/plain": [
       "<Graph identifier=Nbcdc0ba9a2cf49f0b5962512a64c8dec (<class 'rdflib.graph.Graph'>)>"
      ]
     },
     "execution_count": 10,
     "metadata": {},
     "output_type": "execute_result"
    }
   ],
   "source": [
    "# Speichern Sie den RDF-Graphen in einer Datei\n",
    "output_file_path = 'C:/Users/ricar/Desktop/Data/survey_onto.ttl'\n",
    "graph.serialize(output_file_path, format='turtle')"
   ]
  },
  {
   "cell_type": "code",
   "execution_count": 7,
   "metadata": {},
   "outputs": [
    {
     "ename": "KeyError",
     "evalue": "'lfdn'",
     "output_type": "error",
     "traceback": [
      "\u001b[1;31m---------------------------------------------------------------------------\u001b[0m",
      "\u001b[1;31mKeyError\u001b[0m                                  Traceback (most recent call last)",
      "File \u001b[1;32mc:\\Users\\ricar\\AppData\\Local\\Programs\\Python\\Python39\\lib\\site-packages\\pandas\\core\\indexes\\base.py:3790\u001b[0m, in \u001b[0;36mIndex.get_loc\u001b[1;34m(self, key)\u001b[0m\n\u001b[0;32m   3789\u001b[0m \u001b[39mtry\u001b[39;00m:\n\u001b[1;32m-> 3790\u001b[0m     \u001b[39mreturn\u001b[39;00m \u001b[39mself\u001b[39;49m\u001b[39m.\u001b[39;49m_engine\u001b[39m.\u001b[39;49mget_loc(casted_key)\n\u001b[0;32m   3791\u001b[0m \u001b[39mexcept\u001b[39;00m \u001b[39mKeyError\u001b[39;00m \u001b[39mas\u001b[39;00m err:\n",
      "File \u001b[1;32mindex.pyx:152\u001b[0m, in \u001b[0;36mpandas._libs.index.IndexEngine.get_loc\u001b[1;34m()\u001b[0m\n",
      "File \u001b[1;32mindex.pyx:181\u001b[0m, in \u001b[0;36mpandas._libs.index.IndexEngine.get_loc\u001b[1;34m()\u001b[0m\n",
      "File \u001b[1;32mpandas\\_libs\\hashtable_class_helper.pxi:7080\u001b[0m, in \u001b[0;36mpandas._libs.hashtable.PyObjectHashTable.get_item\u001b[1;34m()\u001b[0m\n",
      "File \u001b[1;32mpandas\\_libs\\hashtable_class_helper.pxi:7088\u001b[0m, in \u001b[0;36mpandas._libs.hashtable.PyObjectHashTable.get_item\u001b[1;34m()\u001b[0m\n",
      "\u001b[1;31mKeyError\u001b[0m: 'lfdn'",
      "\nThe above exception was the direct cause of the following exception:\n",
      "\u001b[1;31mKeyError\u001b[0m                                  Traceback (most recent call last)",
      "\u001b[1;32mc:\\Users\\ricar\\Desktop\\protege\\Onto_to_csv_ml.ipynb Cell 11\u001b[0m line \u001b[0;36m<cell line: 2>\u001b[1;34m()\u001b[0m\n\u001b[0;32m      <a href='vscode-notebook-cell:/c%3A/Users/ricar/Desktop/protege/Onto_to_csv_ml.ipynb#X13sZmlsZQ%3D%3D?line=0'>1</a>\u001b[0m \u001b[39m# Iterieren Sie durch jede Zeile der CSV-Datei und fügen Sie RDF-Tripel hinzu\u001b[39;00m\n\u001b[0;32m      <a href='vscode-notebook-cell:/c%3A/Users/ricar/Desktop/protege/Onto_to_csv_ml.ipynb#X13sZmlsZQ%3D%3D?line=1'>2</a>\u001b[0m \u001b[39mfor\u001b[39;00m index, row \u001b[39min\u001b[39;00m df\u001b[39m.\u001b[39miterrows():\n\u001b[1;32m----> <a href='vscode-notebook-cell:/c%3A/Users/ricar/Desktop/protege/Onto_to_csv_ml.ipynb#X13sZmlsZQ%3D%3D?line=2'>3</a>\u001b[0m     participant_uri \u001b[39m=\u001b[39m ex[\u001b[39mf\u001b[39m\u001b[39m'\u001b[39m\u001b[39mparticipant_\u001b[39m\u001b[39m{\u001b[39;00mrow[\u001b[39m\"\u001b[39m\u001b[39mlfdn\u001b[39m\u001b[39m\"\u001b[39m]\u001b[39m}\u001b[39;00m\u001b[39m'\u001b[39m]\n\u001b[0;32m      <a href='vscode-notebook-cell:/c%3A/Users/ricar/Desktop/protege/Onto_to_csv_ml.ipynb#X13sZmlsZQ%3D%3D?line=3'>4</a>\u001b[0m     completed_question_uri \u001b[39m=\u001b[39m ex[\u001b[39mf\u001b[39m\u001b[39m'\u001b[39m\u001b[39mquestion_\u001b[39m\u001b[39m{\u001b[39;00mrow[\u001b[39m\"\u001b[39m\u001b[39mwhy_local\u001b[39m\u001b[39m\"\u001b[39m]\u001b[39m}\u001b[39;00m\u001b[39m'\u001b[39m]\n\u001b[0;32m      <a href='vscode-notebook-cell:/c%3A/Users/ricar/Desktop/protege/Onto_to_csv_ml.ipynb#X13sZmlsZQ%3D%3D?line=5'>6</a>\u001b[0m     \u001b[39m# Fügen Sie Tripel für die Instanz von CompletedQuestion hinzu\u001b[39;00m\n",
      "File \u001b[1;32mc:\\Users\\ricar\\AppData\\Local\\Programs\\Python\\Python39\\lib\\site-packages\\pandas\\core\\series.py:1040\u001b[0m, in \u001b[0;36mSeries.__getitem__\u001b[1;34m(self, key)\u001b[0m\n\u001b[0;32m   1037\u001b[0m     \u001b[39mreturn\u001b[39;00m \u001b[39mself\u001b[39m\u001b[39m.\u001b[39m_values[key]\n\u001b[0;32m   1039\u001b[0m \u001b[39melif\u001b[39;00m key_is_scalar:\n\u001b[1;32m-> 1040\u001b[0m     \u001b[39mreturn\u001b[39;00m \u001b[39mself\u001b[39;49m\u001b[39m.\u001b[39;49m_get_value(key)\n\u001b[0;32m   1042\u001b[0m \u001b[39m# Convert generator to list before going through hashable part\u001b[39;00m\n\u001b[0;32m   1043\u001b[0m \u001b[39m# (We will iterate through the generator there to check for slices)\u001b[39;00m\n\u001b[0;32m   1044\u001b[0m \u001b[39mif\u001b[39;00m is_iterator(key):\n",
      "File \u001b[1;32mc:\\Users\\ricar\\AppData\\Local\\Programs\\Python\\Python39\\lib\\site-packages\\pandas\\core\\series.py:1156\u001b[0m, in \u001b[0;36mSeries._get_value\u001b[1;34m(self, label, takeable)\u001b[0m\n\u001b[0;32m   1153\u001b[0m     \u001b[39mreturn\u001b[39;00m \u001b[39mself\u001b[39m\u001b[39m.\u001b[39m_values[label]\n\u001b[0;32m   1155\u001b[0m \u001b[39m# Similar to Index.get_value, but we do not fall back to positional\u001b[39;00m\n\u001b[1;32m-> 1156\u001b[0m loc \u001b[39m=\u001b[39m \u001b[39mself\u001b[39;49m\u001b[39m.\u001b[39;49mindex\u001b[39m.\u001b[39;49mget_loc(label)\n\u001b[0;32m   1158\u001b[0m \u001b[39mif\u001b[39;00m is_integer(loc):\n\u001b[0;32m   1159\u001b[0m     \u001b[39mreturn\u001b[39;00m \u001b[39mself\u001b[39m\u001b[39m.\u001b[39m_values[loc]\n",
      "File \u001b[1;32mc:\\Users\\ricar\\AppData\\Local\\Programs\\Python\\Python39\\lib\\site-packages\\pandas\\core\\indexes\\base.py:3797\u001b[0m, in \u001b[0;36mIndex.get_loc\u001b[1;34m(self, key)\u001b[0m\n\u001b[0;32m   3792\u001b[0m     \u001b[39mif\u001b[39;00m \u001b[39misinstance\u001b[39m(casted_key, \u001b[39mslice\u001b[39m) \u001b[39mor\u001b[39;00m (\n\u001b[0;32m   3793\u001b[0m         \u001b[39misinstance\u001b[39m(casted_key, abc\u001b[39m.\u001b[39mIterable)\n\u001b[0;32m   3794\u001b[0m         \u001b[39mand\u001b[39;00m \u001b[39many\u001b[39m(\u001b[39misinstance\u001b[39m(x, \u001b[39mslice\u001b[39m) \u001b[39mfor\u001b[39;00m x \u001b[39min\u001b[39;00m casted_key)\n\u001b[0;32m   3795\u001b[0m     ):\n\u001b[0;32m   3796\u001b[0m         \u001b[39mraise\u001b[39;00m InvalidIndexError(key)\n\u001b[1;32m-> 3797\u001b[0m     \u001b[39mraise\u001b[39;00m \u001b[39mKeyError\u001b[39;00m(key) \u001b[39mfrom\u001b[39;00m \u001b[39merr\u001b[39;00m\n\u001b[0;32m   3798\u001b[0m \u001b[39mexcept\u001b[39;00m \u001b[39mTypeError\u001b[39;00m:\n\u001b[0;32m   3799\u001b[0m     \u001b[39m# If we have a listlike key, _check_indexing_error will raise\u001b[39;00m\n\u001b[0;32m   3800\u001b[0m     \u001b[39m#  InvalidIndexError. Otherwise we fall through and re-raise\u001b[39;00m\n\u001b[0;32m   3801\u001b[0m     \u001b[39m#  the TypeError.\u001b[39;00m\n\u001b[0;32m   3802\u001b[0m     \u001b[39mself\u001b[39m\u001b[39m.\u001b[39m_check_indexing_error(key)\n",
      "\u001b[1;31mKeyError\u001b[0m: 'lfdn'"
     ]
    }
   ],
   "source": [
    "\n",
    "# Iterieren Sie durch jede Zeile der CSV-Datei und fügen Sie RDF-Tripel hinzu\n",
    "for index, row in df.iterrows():\n",
    "    participant_uri = ex[f'participant_{row[\"lfdn\"]}']\n",
    "    completed_question_uri = ex[f'question_{row[\"why_local\"]}']\n",
    "\n",
    "    # Fügen Sie Tripel für die Instanz von CompletedQuestion hinzu\n",
    "    graph.add((participant_uri, ex.hasCompletedQuestion, completed_question_uri))\n",
    "    graph.add((completed_question_uri, RDF.type, ex.CompletedQuestion))\n",
    "\n",
    "    # Wandeln Sie die numerischen Werte in Texte um\n",
    "    answer_mapping = {\n",
    "        1: 'StronglyDisagree',\n",
    "        2: 'Disagree',\n",
    "        3: 'MoreOrLessDisagree',\n",
    "        4: 'Undecided',\n",
    "        5: 'MoreOrLessAgree',\n",
    "        6: 'Agree',\n",
    "        7: 'StronglyAgree'\n",
    "    }\n",
    "    answer_text = answer_mapping.get(row['why_local'])\n",
    "\n",
    "    # Fügen Sie Tripel für die Antwort hinzu\n",
    "    graph.add((completed_question_uri, ex.hasAnswer, Literal(answer_text)))\n"
   ]
  },
  {
   "cell_type": "code",
   "execution_count": 12,
   "metadata": {},
   "outputs": [
    {
     "data": {
      "text/plain": [
       "<Graph identifier=Nbcdc0ba9a2cf49f0b5962512a64c8dec (<class 'rdflib.graph.Graph'>)>"
      ]
     },
     "execution_count": 12,
     "metadata": {},
     "output_type": "execute_result"
    }
   ],
   "source": [
    "# Speichern Sie den RDF-Graphen in einer Datei\n",
    "output_file_path = 'C:/Users/ricar/Desktop/Data/survey_ont2.ttl'\n",
    "graph.serialize(output_file_path, format='turtle')"
   ]
  },
  {
   "cell_type": "code",
   "execution_count": 1,
   "metadata": {},
   "outputs": [],
   "source": [
    "import pandas as pd\n",
    "import openpyxl\n",
    "from rdflib import Graph, Namespace, Literal, URIRef, RDF"
   ]
  },
  {
   "cell_type": "code",
   "execution_count": 2,
   "metadata": {},
   "outputs": [],
   "source": [
    "# Laden Sie Ihre CSV-Datei\n",
    "csv_file_path = 'C:/Users/ricar/Desktop/Data/data_survey_für_ontologie_alles.xlsx'\n",
    "df = pd.read_excel(csv_file_path)"
   ]
  },
  {
   "cell_type": "code",
   "execution_count": 28,
   "metadata": {},
   "outputs": [],
   "source": [
    "# Define RDF-Graphen and Namespace\n",
    "graph = Graph()\n",
    "ex = Namespace('http://survey.org/')"
   ]
  },
  {
   "cell_type": "code",
   "execution_count": 6,
   "metadata": {},
   "outputs": [],
   "source": [
    "# Define RDF-Graphen and Namespace\n",
    "graph = Graph()\n",
    "ex = Namespace('http://www.semanticweb.org/ontologies/survey#')"
   ]
  },
  {
   "cell_type": "code",
   "execution_count": 7,
   "metadata": {},
   "outputs": [],
   "source": [
    "# Iterieren Sie durch jede Zeile der CSV-Datei\n",
    "for index, row in df.iterrows():\n",
    "    # Erstellen Sie ein Individual für den Teilnehmer\n",
    "    participant_uri = ex[f'participant{row[\"Participant\"]}']\n",
    "    graph.add((participant_uri, RDF.type, ex.Participant))\n",
    "\n",
    "    # Fügen Sie die ID als Data Property Assertion hinzu\n",
    "    graph.add((participant_uri, ex.hasID, Literal(row['Participant'])))\n",
    "\n",
    "    # Erstellen Sie ein Individual für den SurveyCompletionTask\n",
    "    sct_uri = ex[f'SurveyCompletionTask{index + 1}']\n",
    "    graph.add((sct_uri, RDF.type, ex.SurveyCompletionTask))\n",
    "\n",
    "    # Verknüpfen Sie den Teilnehmer mit dem SurveyCompletionTask\n",
    "    graph.add((sct_uri, ex.completedBy, participant_uri))\n",
    "\n",
    "    # Iterieren Sie durch jede Spalte in der CSV-Datei\n",
    "    for column in df.columns:\n",
    "        # Ignorieren Sie die Spalte 'lfdn'\n",
    "        if column != 'lfdn':\n",
    "            # Erstellen Sie ein Individual für die CompletedQuestion\n",
    "            cq_uri = ex[f'Completed.{column}.{index + 1}']\n",
    "            graph.add((cq_uri, RDF.type, ex.CompletedQuestion))\n",
    "\n",
    "            # Verknüpfen Sie die CompletedQuestion mit dem SurveyCompletionTask\n",
    "            graph.add((cq_uri, ex.answeredIn, sct_uri))\n",
    "\n",
    "            # Verknüpfen Sie die CompletedQuestion mit der entsprechenden Frage\n",
    "            question_uri = ex[f'{column}']\n",
    "            graph.add((cq_uri, ex.completes, question_uri))\n",
    "\n",
    "        # Überprüfen Sie, ob der Wert ein String ist\n",
    "        if isinstance(row[column], float):\n",
    "            # Wenn es eine Zahl ist, fügen Sie sie als Antwort hinzu\n",
    "            graph.add((cq_uri, ex.hasAnswer, Literal(row[column])))\n",
    "        elif isinstance(row[column], str):\n",
    "            # Fügen Sie die Antwort als Literal hinzu\n",
    "            graph.add((cq_uri, ex.hasAnswer, Literal(row[column])))\n",
    "        else:\n",
    "            # Mappe die numerischen Werte in Texte um\n",
    "            answer_mapping = {\n",
    "                1: 'StronglyDisagree',\n",
    "                2: 'Disagree',\n",
    "                3: 'MoreOrLessDisagree',\n",
    "                4: 'Undecided',\n",
    "                5: 'MoreOrLessAgree',\n",
    "                6: 'Agree',\n",
    "                7: 'StronglyAgree'\n",
    "            }\n",
    "\n",
    "            # Fügen Sie die Antwort als Literal hinzu\n",
    "            answer_text = answer_mapping.get(row[column])\n",
    "            graph.add((cq_uri, ex.hasAnswer, Literal(answer_text)))"
   ]
  },
  {
   "cell_type": "code",
   "execution_count": 8,
   "metadata": {},
   "outputs": [
    {
     "data": {
      "text/plain": [
       "<Graph identifier=N3032607744fa4aa0a7d31d63e7dd5df7 (<class 'rdflib.graph.Graph'>)>"
      ]
     },
     "execution_count": 8,
     "metadata": {},
     "output_type": "execute_result"
    }
   ],
   "source": [
    "# Speichern Sie den RDF-Graphen in einer Datei\n",
    "output_file_path = 'C:/Users/ricar/Desktop/Data/survey_ontology_data1001.ttl'\n",
    "graph.serialize(output_file_path, format='turtle')"
   ]
  },
  {
   "cell_type": "code",
   "execution_count": 35,
   "metadata": {},
   "outputs": [],
   "source": [
    "# definiere Namespaces\n",
    "# survey-ontolog: https://w3id.org/survey-ontology#\n",
    "graph = Graph()\n",
    "p_ns = Namespace(\"https://w3id.org/survey-ontology#\") #participant\n",
    "#data_ns = Namespace(\"http://example.org/my-data#\")"
   ]
  },
  {
   "cell_type": "code",
   "execution_count": 36,
   "metadata": {},
   "outputs": [],
   "source": [
    "# Iterieren Sie durch jede Zeile der CSV-Datei\n",
    "for index, row in df.iterrows():\n",
    "    # Erstellen Sie ein Individual für den Teilnehmer\n",
    "    participant_uri = p_ns[f'participant{row[\"Participant\"]}']\n",
    "    graph.add((participant_uri, RDF.type, p_ns.Participant))\n",
    "\n",
    "    # Fügen Sie die ID als Data Property Assertion hinzu\n",
    "    graph.add((participant_uri, p_ns.hasID, Literal(row['Participant'])))\n",
    "\n",
    "    # Erstellen Sie ein Individual für den SurveyCompletionTask\n",
    "    sct_uri = p_ns[f'SurveyCompletionTask{index + 1}']\n",
    "    graph.add((sct_uri, RDF.type, p_ns.SurveyCompletionTask))\n",
    "\n",
    "    # Verknüpfen Sie den Teilnehmer mit dem SurveyCompletionTask\n",
    "    graph.add((sct_uri, p_ns.completedFor, participant_uri))\n",
    "\n",
    "    # Iterieren Sie durch jede Spalte in der CSV-Datei\n",
    "    for column in df.columns:\n",
    "        # Ignorieren Sie die Spalte 'lfdn'\n",
    "        if column != 'lfdn':\n",
    "            # Erstellen Sie ein Individual für die CompletedQuestion\n",
    "            cq_uri = p_ns[f'Completed.{column}.{index + 1}']\n",
    "            graph.add((cq_uri, RDF.type, p_ns.CompletedQuestion))\n",
    "\n",
    "            # Verknüpfen Sie die CompletedQuestion mit dem SurveyCompletionTask\n",
    "            graph.add((cq_uri, p_ns.answeredIn, sct_uri))\n",
    "\n",
    "            # Verknüpfen Sie die CompletedQuestion mit der entsprechenden Frage\n",
    "            question_uri = p_ns[f'{column}']\n",
    "            graph.add((cq_uri, p_ns.completesQuestion, question_uri))\n",
    "\n",
    "            # Überprüfen Sie, ob der Wert ein String ist\n",
    "            if isinstance(row[column], float):\n",
    "                # Wenn es eine Zahl ist, fügen Sie sie als Antwort hinzu\n",
    "                graph.add((cq_uri, p_ns.hasAnswer, Literal(row[column])))\n",
    "            elif isinstance(row[column], str):\n",
    "                # Fügen Sie die Antwort als Literal hinzu\n",
    "                graph.add((cq_uri, p_ns.hasAnswer, Literal(row[column])))\n",
    "            else:\n",
    "                # Mappe die numerischen Werte in Texte um\n",
    "                answer_mapping = {\n",
    "                    1: 'StronglyDisagree',\n",
    "                    2: 'Disagree',\n",
    "                    3: 'MoreOrLessDisagree',\n",
    "                    4: 'Undecided',\n",
    "                    5: 'MoreOrLessAgree',\n",
    "                    6: 'Agree',\n",
    "                    7: 'StronglyAgree'\n",
    "                }\n",
    "\n",
    "                # Fügen Sie die Antwort als Literal hinzu\n",
    "                answer_text = answer_mapping.get(row[column])\n",
    "                graph.add((cq_uri, p_ns.hasAnswer, Literal(answer_text)))\n"
   ]
  },
  {
   "cell_type": "code",
   "execution_count": null,
   "metadata": {},
   "outputs": [],
   "source": [
    "#AB 10.0124"
   ]
  },
  {
   "cell_type": "code",
   "execution_count": 9,
   "metadata": {},
   "outputs": [],
   "source": [
    "# definiere Namespaces\n",
    "# survey-ontolog: https://w3id.org/survey-ontology#\n",
    "graph = Graph()\n",
    "p_ns = Namespace(\"http://www.semanticweb.org/ontologies/survey#\") #participant\n",
    "#data_ns = Namespace(\"http://example.org/my-data#\")"
   ]
  },
  {
   "cell_type": "code",
   "execution_count": 10,
   "metadata": {},
   "outputs": [],
   "source": [
    "# Iterieren Sie durch jede Zeile der CSV-Datei\n",
    "for index, row in df.iterrows():\n",
    "    # Erstellen Sie ein Individual für den Teilnehmer\n",
    "    participant_uri = p_ns[f'participant{row[\"Participant\"]}']\n",
    "    graph.add((participant_uri, RDF.type, p_ns.Participant))\n",
    "\n",
    "    # Fügen Sie die ID als Data Property Assertion hinzu\n",
    "    graph.add((participant_uri, p_ns.hasID, Literal(row['Participant'])))\n",
    "\n",
    "    # Erstellen Sie ein Individual für den SurveyCompletionTask\n",
    "    sct_uri = p_ns[f'SurveyCompletionTask{index + 1}']\n",
    "    graph.add((sct_uri, RDF.type, p_ns.SurveyCompletionTask))\n",
    "\n",
    "    # Verknüpfen Sie den Teilnehmer mit dem SurveyCompletionTask\n",
    "    graph.add((sct_uri, p_ns.completedFor, participant_uri))\n",
    "\n",
    "    # Iterieren Sie durch jede Spalte in der CSV-Datei\n",
    "    for column in df.columns:\n",
    "        # Ignorieren Sie die Spalte 'lfdn'\n",
    "        if column != 'lfdn':\n",
    "            # Erstellen Sie ein Individual für die CompletedQuestion\n",
    "            cq_uri = p_ns[f'Completed.{column}.{index + 1}']\n",
    "            graph.add((cq_uri, RDF.type, p_ns.CompletedQuestion))\n",
    "\n",
    "            # Verknüpfen Sie die CompletedQuestion mit dem SurveyCompletionTask\n",
    "            graph.add((cq_uri, p_ns.answeredIn, sct_uri))\n",
    "\n",
    "            # Verknüpfen Sie die CompletedQuestion mit der entsprechenden Frage\n",
    "            question_uri = p_ns[f'{column}']\n",
    "            graph.add((cq_uri, p_ns.completesQuestion, question_uri))\n",
    "\n",
    "            # Überprüfen Sie, ob der Wert ein String ist\n",
    "            if isinstance(row[column], float):\n",
    "                # Wenn es eine Zahl ist, fügen Sie sie als Antwort hinzu\n",
    "                graph.add((cq_uri, p_ns.hasAnswer, Literal(row[column])))\n",
    "            elif isinstance(row[column], str):\n",
    "                # Fügen Sie die Antwort als Literal hinzu\n",
    "                graph.add((cq_uri, p_ns.hasAnswer, Literal(row[column])))\n",
    "            else:\n",
    "                # Mappe die numerischen Werte in Texte um\n",
    "                answer_mapping = {\n",
    "                    1: 'StronglyDisagree',\n",
    "                    2: 'Disagree',\n",
    "                    3: 'MoreOrLessDisagree',\n",
    "                    4: 'Undecided',\n",
    "                    5: 'MoreOrLessAgree',\n",
    "                    6: 'Agree',\n",
    "                    7: 'StronglyAgree'\n",
    "                }\n",
    "\n",
    "                # Fügen Sie die Antwort als Literal hinzu\n",
    "                answer_text = answer_mapping.get(row[column])\n",
    "                graph.add((cq_uri, p_ns.hasAnswer, Literal(answer_text)))"
   ]
  },
  {
   "cell_type": "code",
   "execution_count": 11,
   "metadata": {},
   "outputs": [
    {
     "data": {
      "text/plain": [
       "<Graph identifier=Nf4ac2ad5167c46d9bb26cbf3892e294d (<class 'rdflib.graph.Graph'>)>"
      ]
     },
     "execution_count": 11,
     "metadata": {},
     "output_type": "execute_result"
    }
   ],
   "source": [
    "# Speichern Sie den RDF-Graphen in einer Datei\n",
    "output_file_path = 'C:/Users/ricar/Desktop/Data/survey_ontology_data1002.ttl'\n",
    "graph.serialize(output_file_path, format='turtle')"
   ]
  }
 ],
 "metadata": {
  "kernelspec": {
   "display_name": "Python 3",
   "language": "python",
   "name": "python3"
  },
  "language_info": {
   "codemirror_mode": {
    "name": "ipython",
    "version": 3
   },
   "file_extension": ".py",
   "mimetype": "text/x-python",
   "name": "python",
   "nbconvert_exporter": "python",
   "pygments_lexer": "ipython3",
   "version": "3.9.7"
  }
 },
 "nbformat": 4,
 "nbformat_minor": 2
}
