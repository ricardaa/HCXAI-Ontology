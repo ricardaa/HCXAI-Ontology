{
 "cells": [
  {
   "cell_type": "markdown",
   "metadata": {},
   "source": [
    "#### Add Survey Data to Ontology"
   ]
  },
  {
   "cell_type": "code",
   "execution_count": 21,
   "metadata": {},
   "outputs": [],
   "source": [
    "import pandas as pd\n",
    "from rdflib import Graph, Namespace, Literal, URIRef, RDF"
   ]
  },
  {
   "cell_type": "code",
   "execution_count": 22,
   "metadata": {},
   "outputs": [],
   "source": [
    "xlsx_file_path = 'C:/Users/ricar/Desktop/Data/survey_data_for_ontology.xlsx'\n",
    "df = pd.read_excel(xlsx_file_path)"
   ]
  },
  {
   "cell_type": "code",
   "execution_count": 23,
   "metadata": {},
   "outputs": [],
   "source": [
    "# define namespace\n",
    "graph = Graph()\n",
    "p_ns = Namespace(\"https://w3id.org/survey-ontology#\") #participant"
   ]
  },
  {
   "cell_type": "code",
   "execution_count": 24,
   "metadata": {},
   "outputs": [],
   "source": [
    "# Iterate over each row in csv file\n",
    "for index, row in df.iterrows():\n",
    "    # Create individual for each participant\n",
    "    participant_uri = p_ns[f'participant{row[\"Participant\"]}']\n",
    "    graph.add((participant_uri, RDF.type, p_ns.Participant))\n",
    "\n",
    "    # Add ID as data property assertion\n",
    "    graph.add((participant_uri, p_ns.hasID, Literal(row['Participant'])))\n",
    "\n",
    "    # Create individual for each SurveyCompletionTask\n",
    "    sct_uri = p_ns[f'SurveyCompletionTask{index + 1}']\n",
    "    graph.add((sct_uri, RDF.type, p_ns.SurveyCompletionTask))\n",
    "\n",
    "    # Link the participant to the SurveyCompletionTask\n",
    "    graph.add((sct_uri, p_ns.completedFor, participant_uri))\n",
    "\n",
    "    # Iterate through each column in csv file\n",
    "    for column in df.columns:\n",
    "        # Ignore column 'lfdn'\n",
    "        if column != 'lfdn':\n",
    "            # Create individual for CompletedQuestion\n",
    "            cq_uri = p_ns[f'Completed.{column}.{index + 1}']\n",
    "            graph.add((cq_uri, RDF.type, p_ns.CompletedQuestion))\n",
    "\n",
    "            # Link CompletedQuestion with SurveyCompletionTask\n",
    "            graph.add((cq_uri, p_ns.answeredIn, sct_uri))\n",
    "\n",
    "            # Link CompletedQuestion with corresponding question\n",
    "            question_uri = p_ns[f'{column}']\n",
    "            graph.add((cq_uri, p_ns.completesQuestion, question_uri))\n",
    "\n",
    "            # Check if string\n",
    "            if isinstance(row[column], float):\n",
    "                # If it is a number, add it as an answer\n",
    "                graph.add((cq_uri, p_ns.hasAnswer, Literal(row[column])))\n",
    "            elif isinstance(row[column], str):\n",
    "                # Add answer\n",
    "                graph.add((cq_uri, p_ns.hasAnswer, Literal(row[column])))\n",
    "            else:\n",
    "                # Mappe numerical values into text\n",
    "                answer_mapping = {\n",
    "                    1: 'StronglyDisagree',\n",
    "                    2: 'Disagree',\n",
    "                    3: 'MoreOrLessDisagree',\n",
    "                    4: 'Undecided',\n",
    "                    5: 'MoreOrLessAgree',\n",
    "                    6: 'Agree',\n",
    "                    7: 'StronglyAgree'\n",
    "                }\n",
    "\n",
    "                # Add answers\n",
    "                answer_text = answer_mapping.get(row[column])\n",
    "                graph.add((cq_uri, p_ns.hasAnswer, Literal(answer_text)))"
   ]
  },
  {
   "cell_type": "code",
   "execution_count": 20,
   "metadata": {},
   "outputs": [
    {
     "data": {
      "text/plain": [
       "<Graph identifier=Nf0d26cf7ef92429f8bcdc6c9c9a24236 (<class 'rdflib.graph.Graph'>)>"
      ]
     },
     "execution_count": 20,
     "metadata": {},
     "output_type": "execute_result"
    }
   ],
   "source": [
    "# Save RDF-Graph\n",
    "output_file_path = 'C:/Users/ricar/Desktop/Data/survey_ontology_data.ttl'\n",
    "graph.serialize(output_file_path, format='turtle')"
   ]
  }
 ],
 "metadata": {
  "kernelspec": {
   "display_name": "Python 3",
   "language": "python",
   "name": "python3"
  },
  "language_info": {
   "codemirror_mode": {
    "name": "ipython",
    "version": 3
   },
   "file_extension": ".py",
   "mimetype": "text/x-python",
   "name": "python",
   "nbconvert_exporter": "python",
   "pygments_lexer": "ipython3",
   "version": "3.9.7"
  }
 },
 "nbformat": 4,
 "nbformat_minor": 2
}
